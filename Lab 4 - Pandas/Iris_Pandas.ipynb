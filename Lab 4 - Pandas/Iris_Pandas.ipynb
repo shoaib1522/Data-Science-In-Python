{
 "cells": [
  {
   "cell_type": "markdown",
   "metadata": {},
   "source": [
    "## \"Iris.csv\" outcomes using Pandas "
   ]
  },
  {
   "cell_type": "markdown",
   "metadata": {},
   "source": [
    "## Task 1: Identifying and Imputing Missing Data\n",
    "1. Locate missing data and identify columns with missing values.\n",
    "2. Fill missing values:\n",
    "   - **Numerical Columns:** Use the median value of each column.\n",
    "   - **Categorical Column (`species`):** Use the most frequent value (mode).\n"
   ]
  },
  {
   "cell_type": "code",
   "execution_count": 25,
   "metadata": {},
   "outputs": [
    {
     "name": "stdout",
     "output_type": "stream",
     "text": [
      "Missing values in each column before imputation:\n",
      "Id              0\n",
      "sepal_length    0\n",
      "sepal_width     0\n",
      "petal_length    0\n",
      "petal_width     0\n",
      "species         0\n",
      "dtype: int64\n"
     ]
    }
   ],
   "source": [
    "import pandas as pd\n",
    "\n",
    "# Load the Iris dataset\n",
    "file_path = \"Iris.csv\"\n",
    "data = pd.read_csv(file_path)\n",
    "\n",
    "# Rename columns for clarity and consistent naming\n",
    "data.rename(columns={\n",
    "    'SepalLengthCm': 'sepal_length',\n",
    "    'SepalWidthCm': 'sepal_width',\n",
    "    'PetalLengthCm': 'petal_length',\n",
    "    'PetalWidthCm': 'petal_width',\n",
    "    'Species': 'species'\n",
    "}, inplace=True)\n",
    "\n",
    "# Task 1: Identifying and Imputing Missing Data\n",
    "\n",
    "# Locate Missing Data\n",
    "print(\"Missing values in each column before imputation:\")\n",
    "print(data.isnull().sum())\n",
    "\n",
    "# Handle Missing Data in Numerical Columns\n",
    "for column in ['sepal_length', 'sepal_width', 'petal_length', 'petal_width']:\n",
    "    median_value = data[column].median()\n",
    "    data[column] = data[column].fillna(median_value)\n",
    "\n",
    "# Handle Missing Data in Categorical Columns\n",
    "if data['species'].isnull().sum() > 0:\n",
    "    mode_value = data['species'].mode()[0]\n",
    "    data['species'] = data['species'].fillna(mode_value)\n",
    "\n",
    "\n",
    "\n"
   ]
  },
  {
   "cell_type": "markdown",
   "metadata": {},
   "source": [
    "## Task 2: Data Integrity and Transformation\n",
    "1. Remove duplicate rows to ensure only unique entries remain.\n",
    "2. Create a new feature:\n",
    "   - Calculate `sepal_area` and `petal_area`.\n",
    "   - Add these to form a new column `total_area`.\n",
    "3. Drop rows with unresolved missing values.\n"
   ]
  },
  {
   "cell_type": "code",
   "execution_count": 26,
   "metadata": {},
   "outputs": [],
   "source": [
    "# Task 2: Data Integrity and Transformation\n",
    "\n",
    "# Remove Duplicate Records\n",
    "data.drop_duplicates(inplace=True)\n",
    "\n",
    "# Feature Engineering: Creating total_area\n",
    "data['sepal_area'] = data['sepal_length'] * data['sepal_width']\n",
    "data['petal_area'] = data['petal_length'] * data['petal_width']\n",
    "data['total_area'] = data['sepal_area'] + data['petal_area']\n",
    "\n",
    "# Drop rows with any remaining missing values\n",
    "data.dropna(inplace=True)\n"
   ]
  },
  {
   "cell_type": "markdown",
   "metadata": {},
   "source": [
    "## Task 3: Aggregation and Data Transformation\n",
    "1. Convert the categorical `species` column into numerical values using a mapping.\n",
    "2. Group data by `species_num` and calculate the total sum of numerical columns:\n",
    "   - `sepal_length`, `sepal_width`, `petal_length`, `petal_width`.\n"
   ]
  },
  {
   "cell_type": "code",
   "execution_count": 27,
   "metadata": {},
   "outputs": [
    {
     "name": "stdout",
     "output_type": "stream",
     "text": [
      "Grouped aggregation by species:\n",
      "             sepal_length  sepal_width  petal_length  petal_width\n",
      "species_num                                                      \n",
      "0                   250.3        170.9          73.2         12.2\n",
      "1                   296.8        138.5         213.0         66.3\n",
      "2                   329.4        148.7         277.6        101.3\n"
     ]
    }
   ],
   "source": [
    "# Task 3: Aggregation and Data Transformation\n",
    "\n",
    "# Numerical Conversion of Categorical Data\n",
    "species_mapping = {species: idx for idx, species in enumerate(data['species'].unique())}\n",
    "data['species_num'] = data['species'].map(species_mapping)\n",
    "\n",
    "# Apply Grouped Aggregation\n",
    "grouped_data = data.groupby('species_num')[['sepal_length', 'sepal_width', 'petal_length', 'petal_width']].sum()\n",
    "print(\"Grouped aggregation by species:\")\n",
    "print(grouped_data)\n"
   ]
  },
  {
   "cell_type": "markdown",
   "metadata": {},
   "source": [
    "## Task 4: Data Reshaping\n",
    "1. Reshape the dataset into a **long format**:\n",
    "   - Stack flower attributes (e.g., `sepal_length`, `sepal_width`, etc.) into a single column.\n",
    "   - Create a new column for attribute type and another for its value.\n"
   ]
  },
  {
   "cell_type": "code",
   "execution_count": 28,
   "metadata": {},
   "outputs": [
    {
     "name": "stdout",
     "output_type": "stream",
     "text": [
      "Cleaning and transformation complete. Check 'cleaned_iris.csv' and 'long_format_iris.csv' for results.\n"
     ]
    }
   ],
   "source": [
    "# Task 4: Data Reshaping\n",
    "\n",
    "# Reshape Dataset into Long Format\n",
    "long_format = pd.melt(data, id_vars=['species', 'species_num'], \n",
    "                      value_vars=['sepal_length', 'sepal_width', 'petal_length', 'petal_width', 'total_area'],\n",
    "                      var_name='attribute', value_name='value')\n",
    "\n",
    "# Save the cleaned data and reshaped data for further inspection\n",
    "data.to_csv(\"cleaned_iris.csv\", index=False)\n",
    "long_format.to_csv(\"long_format_iris.csv\", index=False)\n",
    "\n",
    "print(\"Cleaning and transformation complete. Check 'cleaned_iris.csv' and 'long_format_iris.csv' for results.\")\n"
   ]
  }
 ],
 "metadata": {
  "kernelspec": {
   "display_name": "Python 3",
   "language": "python",
   "name": "python3"
  },
  "language_info": {
   "codemirror_mode": {
    "name": "ipython",
    "version": 3
   },
   "file_extension": ".py",
   "mimetype": "text/x-python",
   "name": "python",
   "nbconvert_exporter": "python",
   "pygments_lexer": "ipython3",
   "version": "3.12.1"
  }
 },
 "nbformat": 4,
 "nbformat_minor": 2
}
