{
 "cells": [
  {
   "cell_type": "markdown",
   "metadata": {},
   "source": [
    "## **Assignment 3: Python Programming Concepts**\n",
    "This notebook contains the solution to Assignment 3, covering E-commerce data processing, iterators, generators, exception handling, and decorators."
   ]
  },
  {
   "cell_type": "markdown",
   "metadata": {},
   "source": [
    "## **Task 1: E-commerce Data Processing**\n"
   ]
  },
  {
   "cell_type": "markdown",
   "metadata": {},
   "source": [
    "# *Part A: Data Validation*\n",
    "I will validate a list of orders by filtering out invalid orders where:\n",
    "\n",
    "The total is non-numeric.\n",
    "The total is less than zero.\n",
    "I'll use a lambda function with filter() and exception handling for this task."
   ]
  },
  {
   "cell_type": "code",
   "execution_count": 8,
   "metadata": {},
   "outputs": [
    {
     "name": "stdout",
     "output_type": "stream",
     "text": [
      "[{'customer': 'Alice', 'total': 250.5}, {'customer': 'Charlie', 'total': 450}, {'customer': 'Daisy', 'total': 100.0}]\n"
     ]
    }
   ],
   "source": [
    "# Given list of orders\n",
    "orders = [\n",
    "    {\"customer\": \"Alice\", \"total\": 250.5},\n",
    "    {\"customer\": \"Bob\", \"total\": \"invalid_data\"},\n",
    "    {\"customer\": \"Charlie\", \"total\": 450},\n",
    "    {\"customer\": \"Daisy\", \"total\": 100.0},\n",
    "    {\"customer\": \"Eve\", \"total\": -30},  # Invalid total\n",
    "]\n",
    "\n",
    "# Function to filter valid orders\n",
    "def validate_orders(order_list):\n",
    "    def is_valid_order(order):\n",
    "        try:\n",
    "            total = float(order['total'])  # Check if total is a number\n",
    "            return total >= 0  # Valid if total is >= 0\n",
    "        except (ValueError, TypeError):\n",
    "            return False  # Invalid if not a number\n",
    "\n",
    "    return list(filter(is_valid_order, order_list))  # Return valid orders\n",
    "\n",
    "valid_orders = validate_orders(orders)\n",
    "print(valid_orders)\n"
   ]
  },
  {
   "cell_type": "markdown",
   "metadata": {},
   "source": [
    "# *Part B: Discount Application*\n",
    "We will apply a 10% discount to all orders with totals greater than $300 using the map() function and a lambda function"
   ]
  },
  {
   "cell_type": "code",
   "execution_count": 9,
   "metadata": {},
   "outputs": [
    {
     "name": "stdout",
     "output_type": "stream",
     "text": [
      "[{'customer': 'Alice', 'total': 250.5}, {'customer': 'Charlie', 'total': 405.0}, {'customer': 'Daisy', 'total': 100.0}]\n"
     ]
    }
   ],
   "source": [
    "# Function to apply 10% discount on orders over $300\n",
    "def apply_discount(order_list):\n",
    "    return list(map(lambda order: {\n",
    "        'customer': order['customer'], \n",
    "        'total': round(order['total'] * 0.9, 2) if order['total'] > 300 else order['total']\n",
    "    }, order_list))\n",
    "\n",
    "discounted_orders = apply_discount(valid_orders)\n",
    "print(discounted_orders)\n"
   ]
  },
  {
   "cell_type": "markdown",
   "metadata": {},
   "source": [
    "# *Part C: Total Sales Calculation*\n",
    "We will calculate the total sales from the list of valid, discounted orders using the reduce() function"
   ]
  },
  {
   "cell_type": "code",
   "execution_count": 10,
   "metadata": {},
   "outputs": [
    {
     "name": "stdout",
     "output_type": "stream",
     "text": [
      "755.5\n"
     ]
    }
   ],
   "source": [
    "from functools import reduce\n",
    "\n",
    "# Function to calculate total sales after discount\n",
    "def calculate_total_sales(order_list):\n",
    "    return round(reduce(lambda acc, order: acc + order['total'], order_list, 0), 2)\n",
    "\n",
    "total_sales = calculate_total_sales(discounted_orders)\n",
    "print(total_sales)\n"
   ]
  },
  {
   "cell_type": "markdown",
   "metadata": {},
   "source": [
    "# **Task 2: Iterator and Generator**\n"
   ]
  },
  {
   "cell_type": "markdown",
   "metadata": {},
   "source": [
    "# *Part A: Custom Iterator*\n",
    "I will create a custom iterator SquareIterator that takes an integer n and yields the square of the first n natural numbers."
   ]
  },
  {
   "cell_type": "code",
   "execution_count": 11,
   "metadata": {},
   "outputs": [
    {
     "name": "stdout",
     "output_type": "stream",
     "text": [
      "1\n",
      "4\n",
      "9\n",
      "16\n",
      "25\n"
     ]
    }
   ],
   "source": [
    "# Custom iterator for squares of natural numbers\n",
    "class SquareIterator:\n",
    "    def __init__(self, n):\n",
    "        self.n = n  # Set limit\n",
    "        self.current = 1  # Start from 1\n",
    "\n",
    "    def __iter__(self):\n",
    "        return self\n",
    "\n",
    "    def __next__(self):\n",
    "        if self.current <= self.n:\n",
    "            result = self.current ** 2  # Square the current number\n",
    "            self.current += 1  # Move to next number\n",
    "            return result\n",
    "        else:\n",
    "            raise StopIteration  # Stop when done\n",
    "\n",
    "# Create an iterator for squares\n",
    "squares = SquareIterator(5)\n",
    "for square in squares:\n",
    "    print(square)\n"
   ]
  },
  {
   "cell_type": "markdown",
   "metadata": {},
   "source": [
    "# *Part B: Fibonacci Generator*\n",
    "We will write a generator function fibonacci_generator() that yields the Fibonacci sequence up to a given number n."
   ]
  },
  {
   "cell_type": "code",
   "execution_count": 12,
   "metadata": {},
   "outputs": [
    {
     "name": "stdout",
     "output_type": "stream",
     "text": [
      "0\n",
      "1\n",
      "1\n",
      "2\n",
      "3\n",
      "5\n",
      "8\n",
      "13\n",
      "21\n"
     ]
    }
   ],
   "source": [
    "# Generator for Fibonacci sequence\n",
    "def fibonacci_generator(n):\n",
    "    a, b = 0, 1  # Start with first two numbers\n",
    "    while a <= n:\n",
    "        yield a  # Yield the current Fibonacci number\n",
    "        a, b = b, a + b  # Update the numbers\n",
    "\n",
    "# Generate Fibonacci sequence\n",
    "for fib in fibonacci_generator(21):\n",
    "    print(fib)\n"
   ]
  },
  {
   "cell_type": "markdown",
   "metadata": {},
   "source": [
    "# **Task 3: Exception Handling and Function Decorator**"
   ]
  },
  {
   "cell_type": "markdown",
   "metadata": {},
   "source": [
    "# *Part A: Chained Exceptions*\n",
    "I will write a function that divides each number in a list by a divisor. If the divisor is zero, it raises a custom exception. Any other errors will chain to this exception for better context."
   ]
  },
  {
   "cell_type": "code",
   "execution_count": 13,
   "metadata": {},
   "outputs": [
    {
     "name": "stdout",
     "output_type": "stream",
     "text": [
      "Non-numeric input detected.\n"
     ]
    }
   ],
   "source": [
    "# Custom exception for division by zero\n",
    "class DivisionByZeroError(Exception):\n",
    "    pass\n",
    "\n",
    "# Function to divide numbers by a divisor\n",
    "def divide_numbers(numbers, divisor):\n",
    "    try:\n",
    "        if divisor == 0:\n",
    "            raise DivisionByZeroError(\"Cannot divide by zero.\")  # Custom exception\n",
    "\n",
    "        return [number / divisor for number in numbers]  # Divide numbers\n",
    "\n",
    "    except TypeError as e:\n",
    "        raise TypeError(\"Non-numeric input detected.\") from e  # Chain exceptions\n",
    "\n",
    "# Test function\n",
    "try:\n",
    "    divide_numbers([10, 20, 'a', 40], 2)\n",
    "except Exception as e:\n",
    "    print(e)\n"
   ]
  },
  {
   "cell_type": "markdown",
   "metadata": {},
   "source": [
    "# *Part B: Exception Logging Decorator*\n",
    "We will create a decorator that logs exceptions raised during the execution of a function. It will print the exception type, message, and the function where the exception occurred"
   ]
  },
  {
   "cell_type": "code",
   "execution_count": 14,
   "metadata": {},
   "outputs": [
    {
     "name": "stdout",
     "output_type": "stream",
     "text": [
      "Exception in risky_division: ZeroDivisionError - division by zero\n"
     ]
    }
   ],
   "source": [
    "# Decorator to log exceptions\n",
    "def log_exceptions(func):\n",
    "    def wrapper(*args, **kwargs):\n",
    "        try:\n",
    "            return func(*args, **kwargs)\n",
    "        except Exception as e:\n",
    "            print(f\"Exception in {func.__name__}: {type(e).__name__} - {e}\")\n",
    "            raise  # Re-raise after logging\n",
    "    return wrapper\n",
    "\n",
    "# Test function with decorator\n",
    "@log_exceptions\n",
    "def risky_division(a, b):\n",
    "    return a / b\n",
    "\n",
    "# Test risky division\n",
    "try:\n",
    "    risky_division(10, 0)\n",
    "except ZeroDivisionError:\n",
    "    pass\n"
   ]
  },
  {
   "cell_type": "markdown",
   "metadata": {},
   "source": [
    "## **Conclusion**\n",
    "This notebook demonstrates solutions for:\n",
    "\n",
    "    E-commerce data processing using filter(), map(), reduce(), and exception handling.\n",
    "    Iterator and generator implementations.\n",
    "    Chained exceptions and a decorator for logging exceptions.\n",
    "These solutions showcase how Python's built-in functions and features can be used for robust programming."
   ]
  }
 ],
 "metadata": {
  "kernelspec": {
   "display_name": "Python 3",
   "language": "python",
   "name": "python3"
  },
  "language_info": {
   "codemirror_mode": {
    "name": "ipython",
    "version": 3
   },
   "file_extension": ".py",
   "mimetype": "text/x-python",
   "name": "python",
   "nbconvert_exporter": "python",
   "pygments_lexer": "ipython3",
   "version": "3.12.1"
  }
 },
 "nbformat": 4,
 "nbformat_minor": 2
}
