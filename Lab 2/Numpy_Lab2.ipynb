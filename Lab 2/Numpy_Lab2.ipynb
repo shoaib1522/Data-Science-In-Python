{
 "cells": [
  {
   "cell_type": "markdown",
   "metadata": {},
   "source": [
    "## Lab 2 Numpy"
   ]
  },
  {
   "cell_type": "markdown",
   "metadata": {},
   "source": [
    "\n",
    "\n",
    "### Task 1: Managing Game Scores\n",
    "\n",
    "\n",
    "1. **Create a NumPy array** to store player names, game scores, and levels reached.\n",
    "2. **Update the score** of the player who has reached the highest level.\n",
    "3. **Append a new player's data** (name, score, level) to the array.\n",
    "4. **Insert a new player's score** at a specific index within the array.\n",
    "5. **Delete the player** with the lowest score from the dataset.\n",
    "\n"
   ]
  },
  {
   "cell_type": "code",
   "execution_count": 1,
   "metadata": {},
   "outputs": [
    {
     "name": "stdout",
     "output_type": "stream",
     "text": [
      "Initial data:\n",
      "[['Alice' 200 5]\n",
      " ['Bob' 150 3]\n",
      " ['Charlie' 250 7]]\n",
      "\n",
      "After updating the highest-level player's score:\n",
      "[['Alice' 200 5]\n",
      " ['Bob' 150 3]\n",
      " ['Charlie' 300 7]]\n",
      "\n",
      "After appending a new player:\n",
      "[['Alice' 200 5]\n",
      " ['Bob' 150 3]\n",
      " ['Charlie' 300 7]\n",
      " ['Diana' '180' '4']]\n",
      "\n",
      "After inserting a new player at index 2:\n",
      "[['Alice' 200 5]\n",
      " ['Bob' 150 3]\n",
      " ['Eve' 220 6]\n",
      " ['Charlie' 300 7]\n",
      " ['Diana' '180' '4']]\n",
      "\n",
      "After deleting the player with the lowest score:\n",
      "[['Alice' 200 5]\n",
      " ['Eve' 220 6]\n",
      " ['Charlie' 300 7]\n",
      " ['Diana' '180' '4']]\n"
     ]
    }
   ],
   "source": [
    "import numpy as np\n",
    "\n",
    "# Task 1: Managing Game Scores\n",
    "\n",
    "# 1. Create a NumPy array to store player names, game scores, and levels reached.\n",
    "data = np.array([\n",
    "    [\"Alice\", 200, 5],\n",
    "    [\"Bob\", 150, 3],\n",
    "    [\"Charlie\", 250, 7]\n",
    "], dtype=object)\n",
    "\n",
    "print(\"Initial data:\")\n",
    "print(data)\n",
    "\n",
    "# 2. Update the score of the player who has reached the highest level.\n",
    "highest_level_index = np.argmax(data[:, 2].astype(int))\n",
    "data[highest_level_index, 1] += 50  # Adding 50 to the highest score as an update\n",
    "\n",
    "print(\"\\nAfter updating the highest-level player's score:\")\n",
    "print(data)\n",
    "\n",
    "# 3. Append a new player's data (name, score, level) to the array.\n",
    "new_player = [\"Diana\", 180, 4]\n",
    "data = np.vstack([data, new_player])\n",
    "\n",
    "print(\"\\nAfter appending a new player:\")\n",
    "print(data)\n",
    "\n",
    "# 4. Insert a new player's data at a specific index within the array.\n",
    "new_player_data = [\"Eve\", 220, 6]\n",
    "data = np.insert(data, 2, new_player_data, axis=0)\n",
    "\n",
    "print(\"\\nAfter inserting a new player at index 2:\")\n",
    "print(data)\n",
    "\n",
    "# 5. Delete the player with the lowest score from the dataset.\n",
    "lowest_score_index = np.argmin(data[:, 1].astype(int))\n",
    "data = np.delete(data, lowest_score_index, axis=0)\n",
    "\n",
    "print(\"\\nAfter deleting the player with the lowest score:\")\n",
    "print(data)\n"
   ]
  },
  {
   "cell_type": "markdown",
   "metadata": {},
   "source": [
    "\n",
    "### Task 2: Analyzing Website Traffic\n",
    "\n",
    "1. **Create two NumPy arrays**: one for daily visitors and another for pages viewed.\n",
    "2. **Create a shallow copy** of the visitors array and a **deep copy** of the pages viewed array.\n",
    "3. **Concatenate both arrays** to form a new array.\n",
    "4. **Split the concatenated array** into two parts based on a threshold (e.g., more than 100 pages viewed).\n",
    "5. **Modify the original arrays** and observe the changes in the copies.\n",
    "\n"
   ]
  },
  {
   "cell_type": "code",
   "execution_count": 2,
   "metadata": {},
   "outputs": [
    {
     "name": "stdout",
     "output_type": "stream",
     "text": [
      "Daily visitors: [120  80 150  95  60]\n",
      "Pages viewed: [100  50 200 120  80]\n",
      "\n",
      "Concatenated array:\n",
      "[120  80 150  95  60 100  50 200 120  80]\n",
      "\n",
      "Above threshold (>100): [120 150 200 120]\n",
      "Below threshold (<=100): [ 80  95  60 100  50  80]\n",
      "\n",
      "After modifying original arrays:\n",
      "Shallow copy (visitors_copy_shallow): [130  80 150  95  60]\n",
      "Deep copy (pages_viewed_copy_deep): [100  50 200 120  80]\n"
     ]
    }
   ],
   "source": [
    "# Task 2: Analyzing Website Traffic\n",
    "\n",
    "# 1. Create two NumPy arrays\n",
    "daily_visitors = np.array([120, 80, 150, 95, 60])\n",
    "pages_viewed = np.array([100, 50, 200, 120, 80])\n",
    "\n",
    "print(\"Daily visitors:\", daily_visitors)\n",
    "print(\"Pages viewed:\", pages_viewed)\n",
    "\n",
    "# 2. Create a shallow copy and a deep copy\n",
    "visitors_copy_shallow = daily_visitors.view()\n",
    "pages_viewed_copy_deep = pages_viewed.copy()\n",
    "\n",
    "# 3. Concatenate both arrays\n",
    "combined_array = np.concatenate((daily_visitors, pages_viewed))\n",
    "\n",
    "print(\"\\nConcatenated array:\")\n",
    "print(combined_array)\n",
    "\n",
    "# 4. Split the concatenated array based on a threshold\n",
    "above_threshold = combined_array[combined_array > 100]\n",
    "below_threshold = combined_array[combined_array <= 100]\n",
    "\n",
    "print(\"\\nAbove threshold (>100):\", above_threshold)\n",
    "print(\"Below threshold (<=100):\", below_threshold)\n",
    "\n",
    "# 5. Modify original arrays and observe changes\n",
    "daily_visitors[0] = 130  # Modify the original daily_visitors array\n",
    "pages_viewed[2] = 180  # Modify the original pages_viewed array\n",
    "\n",
    "print(\"\\nAfter modifying original arrays:\")\n",
    "print(\"Shallow copy (visitors_copy_shallow):\", visitors_copy_shallow)\n",
    "print(\"Deep copy (pages_viewed_copy_deep):\", pages_viewed_copy_deep)\n"
   ]
  }
 ],
 "metadata": {
  "kernelspec": {
   "display_name": "Python 3",
   "language": "python",
   "name": "python3"
  },
  "language_info": {
   "codemirror_mode": {
    "name": "ipython",
    "version": 3
   },
   "file_extension": ".py",
   "mimetype": "text/x-python",
   "name": "python",
   "nbconvert_exporter": "python",
   "pygments_lexer": "ipython3",
   "version": "3.12.1"
  }
 },
 "nbformat": 4,
 "nbformat_minor": 2
}
