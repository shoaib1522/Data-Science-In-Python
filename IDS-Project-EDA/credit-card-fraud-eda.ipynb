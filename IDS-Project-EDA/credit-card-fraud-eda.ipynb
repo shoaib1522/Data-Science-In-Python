{
 "cells": [
  {
   "cell_type": "code",
   "execution_count": 1,
   "id": "ed4abdcf",
   "metadata": {
    "_cell_guid": "b1076dfc-b9ad-4769-8c92-a6c4dae69d19",
    "_uuid": "8f2839f25d086af736a60e9eeb907d3b93b6e0e5",
    "execution": {
     "iopub.execute_input": "2025-01-07T16:35:31.575835Z",
     "iopub.status.busy": "2025-01-07T16:35:31.575479Z",
     "iopub.status.idle": "2025-01-07T16:35:31.944052Z",
     "shell.execute_reply": "2025-01-07T16:35:31.942803Z"
    },
    "papermill": {
     "duration": 0.380047,
     "end_time": "2025-01-07T16:35:31.945811",
     "exception": false,
     "start_time": "2025-01-07T16:35:31.565764",
     "status": "completed"
    },
    "tags": []
   },
   "outputs": [
    {
     "name": "stdout",
     "output_type": "stream",
     "text": [
      "/kaggle/input/creditcardfraud/creditcard.csv\n"
     ]
    }
   ],
   "source": [
    "# This Python 3 environment comes with many helpful analytics libraries installed\n",
    "# It is defined by the kaggle/python Docker image: https://github.com/kaggle/docker-python\n",
    "# For example, here's several helpful packages to load\n",
    "\n",
    "import numpy as np # linear algebra\n",
    "import pandas as pd # data processing, CSV file I/O (e.g. pd.read_csv)\n",
    "\n",
    "# Input data files are available in the read-only \"../input/\" directory\n",
    "# For example, running this (by clicking run or pressing Shift+Enter) will list all files under the input directory\n",
    "\n",
    "import os\n",
    "for dirname, _, filenames in os.walk('/kaggle/input'):\n",
    "    for filename in filenames:\n",
    "        print(os.path.join(dirname, filename))\n",
    "\n",
    "# You can write up to 20GB to the current directory (/kaggle/working/) that gets preserved as output when you create a version using \"Save & Run All\" \n",
    "# You can also write temporary files to /kaggle/temp/, but they won't be saved outside of the current session"
   ]
  },
  {
   "cell_type": "markdown",
   "id": "d5b6754a",
   "metadata": {
    "papermill": {
     "duration": 0.007245,
     "end_time": "2025-01-07T16:35:31.961192",
     "exception": false,
     "start_time": "2025-01-07T16:35:31.953947",
     "status": "completed"
    },
    "tags": []
   },
   "source": [
    "# **Credit Card Fraud Detection Project**\n",
    "\n",
    "## **Introduction**\n",
    "This project analyzes a credit card fraud dataset to identify fraudulent transactions. It includes exploratory data analysis (EDA) to uncover insights, detect outliers, and understand patterns in the data. The dataset is highly imbalanced, with only 0.17% of transactions labeled as fraud.\n",
    "\n",
    "---\n",
    "\n",
    "## **Dataset Overview**\n",
    "- **Source**: Kaggle's Credit Card Fraud Detection Dataset.\n",
    "- **Shape**: 284,807 rows and 31 columns.\n",
    "- **Features**:\n",
    "  - `Time`: Seconds elapsed since the first transaction.\n",
    "  - `Amount`: Transaction amount.\n",
    "  - `V1` to `V28`: PCA-transformed features.\n",
    "  - `Class`: Target variable (0 = Non-Fraud, 1 = Fraud).\n",
    "\n"
   ]
  },
  {
   "cell_type": "markdown",
   "id": "8bae8a54",
   "metadata": {
    "papermill": {
     "duration": 0.007058,
     "end_time": "2025-01-07T16:35:31.975570",
     "exception": false,
     "start_time": "2025-01-07T16:35:31.968512",
     "status": "completed"
    },
    "tags": []
   },
   "source": [
    "---"
   ]
  },
  {
   "cell_type": "markdown",
   "id": "f26eefe3",
   "metadata": {
    "papermill": {
     "duration": 0.007145,
     "end_time": "2025-01-07T16:35:31.990145",
     "exception": false,
     "start_time": "2025-01-07T16:35:31.983000",
     "status": "completed"
    },
    "tags": []
   },
   "source": [
    "\n",
    "\n",
    "## **Exploratory Data Analysis (EDA)**\n",
    "\n"
   ]
  },
  {
   "cell_type": "markdown",
   "id": "83c567e3",
   "metadata": {
    "papermill": {
     "duration": 0.00719,
     "end_time": "2025-01-07T16:35:32.004594",
     "exception": false,
     "start_time": "2025-01-07T16:35:31.997404",
     "status": "completed"
    },
    "tags": []
   },
   "source": [
    "### **Step 1: Load Dataset**\n",
    "- **Objective**: Load the dataset into a Pandas DataFrame for exploration.\n",
    "- **Result**: Successfully loaded dataset with 284,807 rows and 31 columns.\n",
    "\n",
    "---"
   ]
  },
  {
   "cell_type": "code",
   "execution_count": 2,
   "id": "89f06652",
   "metadata": {
    "execution": {
     "iopub.execute_input": "2025-01-07T16:35:32.021196Z",
     "iopub.status.busy": "2025-01-07T16:35:32.020759Z",
     "iopub.status.idle": "2025-01-07T16:35:36.084087Z",
     "shell.execute_reply": "2025-01-07T16:35:36.083168Z"
    },
    "papermill": {
     "duration": 4.073262,
     "end_time": "2025-01-07T16:35:36.085574",
     "exception": false,
     "start_time": "2025-01-07T16:35:32.012312",
     "status": "completed"
    },
    "tags": []
   },
   "outputs": [
    {
     "name": "stdout",
     "output_type": "stream",
     "text": [
      "Dataset Shape: (284807, 31)\n"
     ]
    },
    {
     "data": {
      "text/html": [
       "<div>\n",
       "<style scoped>\n",
       "    .dataframe tbody tr th:only-of-type {\n",
       "        vertical-align: middle;\n",
       "    }\n",
       "\n",
       "    .dataframe tbody tr th {\n",
       "        vertical-align: top;\n",
       "    }\n",
       "\n",
       "    .dataframe thead th {\n",
       "        text-align: right;\n",
       "    }\n",
       "</style>\n",
       "<table border=\"1\" class=\"dataframe\">\n",
       "  <thead>\n",
       "    <tr style=\"text-align: right;\">\n",
       "      <th></th>\n",
       "      <th>Time</th>\n",
       "      <th>V1</th>\n",
       "      <th>V2</th>\n",
       "      <th>V3</th>\n",
       "      <th>V4</th>\n",
       "      <th>V5</th>\n",
       "      <th>V6</th>\n",
       "      <th>V7</th>\n",
       "      <th>V8</th>\n",
       "      <th>V9</th>\n",
       "      <th>...</th>\n",
       "      <th>V21</th>\n",
       "      <th>V22</th>\n",
       "      <th>V23</th>\n",
       "      <th>V24</th>\n",
       "      <th>V25</th>\n",
       "      <th>V26</th>\n",
       "      <th>V27</th>\n",
       "      <th>V28</th>\n",
       "      <th>Amount</th>\n",
       "      <th>Class</th>\n",
       "    </tr>\n",
       "  </thead>\n",
       "  <tbody>\n",
       "    <tr>\n",
       "      <th>0</th>\n",
       "      <td>0.0</td>\n",
       "      <td>-1.359807</td>\n",
       "      <td>-0.072781</td>\n",
       "      <td>2.536347</td>\n",
       "      <td>1.378155</td>\n",
       "      <td>-0.338321</td>\n",
       "      <td>0.462388</td>\n",
       "      <td>0.239599</td>\n",
       "      <td>0.098698</td>\n",
       "      <td>0.363787</td>\n",
       "      <td>...</td>\n",
       "      <td>-0.018307</td>\n",
       "      <td>0.277838</td>\n",
       "      <td>-0.110474</td>\n",
       "      <td>0.066928</td>\n",
       "      <td>0.128539</td>\n",
       "      <td>-0.189115</td>\n",
       "      <td>0.133558</td>\n",
       "      <td>-0.021053</td>\n",
       "      <td>149.62</td>\n",
       "      <td>0</td>\n",
       "    </tr>\n",
       "    <tr>\n",
       "      <th>1</th>\n",
       "      <td>0.0</td>\n",
       "      <td>1.191857</td>\n",
       "      <td>0.266151</td>\n",
       "      <td>0.166480</td>\n",
       "      <td>0.448154</td>\n",
       "      <td>0.060018</td>\n",
       "      <td>-0.082361</td>\n",
       "      <td>-0.078803</td>\n",
       "      <td>0.085102</td>\n",
       "      <td>-0.255425</td>\n",
       "      <td>...</td>\n",
       "      <td>-0.225775</td>\n",
       "      <td>-0.638672</td>\n",
       "      <td>0.101288</td>\n",
       "      <td>-0.339846</td>\n",
       "      <td>0.167170</td>\n",
       "      <td>0.125895</td>\n",
       "      <td>-0.008983</td>\n",
       "      <td>0.014724</td>\n",
       "      <td>2.69</td>\n",
       "      <td>0</td>\n",
       "    </tr>\n",
       "    <tr>\n",
       "      <th>2</th>\n",
       "      <td>1.0</td>\n",
       "      <td>-1.358354</td>\n",
       "      <td>-1.340163</td>\n",
       "      <td>1.773209</td>\n",
       "      <td>0.379780</td>\n",
       "      <td>-0.503198</td>\n",
       "      <td>1.800499</td>\n",
       "      <td>0.791461</td>\n",
       "      <td>0.247676</td>\n",
       "      <td>-1.514654</td>\n",
       "      <td>...</td>\n",
       "      <td>0.247998</td>\n",
       "      <td>0.771679</td>\n",
       "      <td>0.909412</td>\n",
       "      <td>-0.689281</td>\n",
       "      <td>-0.327642</td>\n",
       "      <td>-0.139097</td>\n",
       "      <td>-0.055353</td>\n",
       "      <td>-0.059752</td>\n",
       "      <td>378.66</td>\n",
       "      <td>0</td>\n",
       "    </tr>\n",
       "    <tr>\n",
       "      <th>3</th>\n",
       "      <td>1.0</td>\n",
       "      <td>-0.966272</td>\n",
       "      <td>-0.185226</td>\n",
       "      <td>1.792993</td>\n",
       "      <td>-0.863291</td>\n",
       "      <td>-0.010309</td>\n",
       "      <td>1.247203</td>\n",
       "      <td>0.237609</td>\n",
       "      <td>0.377436</td>\n",
       "      <td>-1.387024</td>\n",
       "      <td>...</td>\n",
       "      <td>-0.108300</td>\n",
       "      <td>0.005274</td>\n",
       "      <td>-0.190321</td>\n",
       "      <td>-1.175575</td>\n",
       "      <td>0.647376</td>\n",
       "      <td>-0.221929</td>\n",
       "      <td>0.062723</td>\n",
       "      <td>0.061458</td>\n",
       "      <td>123.50</td>\n",
       "      <td>0</td>\n",
       "    </tr>\n",
       "    <tr>\n",
       "      <th>4</th>\n",
       "      <td>2.0</td>\n",
       "      <td>-1.158233</td>\n",
       "      <td>0.877737</td>\n",
       "      <td>1.548718</td>\n",
       "      <td>0.403034</td>\n",
       "      <td>-0.407193</td>\n",
       "      <td>0.095921</td>\n",
       "      <td>0.592941</td>\n",
       "      <td>-0.270533</td>\n",
       "      <td>0.817739</td>\n",
       "      <td>...</td>\n",
       "      <td>-0.009431</td>\n",
       "      <td>0.798278</td>\n",
       "      <td>-0.137458</td>\n",
       "      <td>0.141267</td>\n",
       "      <td>-0.206010</td>\n",
       "      <td>0.502292</td>\n",
       "      <td>0.219422</td>\n",
       "      <td>0.215153</td>\n",
       "      <td>69.99</td>\n",
       "      <td>0</td>\n",
       "    </tr>\n",
       "  </tbody>\n",
       "</table>\n",
       "<p>5 rows × 31 columns</p>\n",
       "</div>"
      ],
      "text/plain": [
       "   Time        V1        V2        V3        V4        V5        V6        V7  \\\n",
       "0   0.0 -1.359807 -0.072781  2.536347  1.378155 -0.338321  0.462388  0.239599   \n",
       "1   0.0  1.191857  0.266151  0.166480  0.448154  0.060018 -0.082361 -0.078803   \n",
       "2   1.0 -1.358354 -1.340163  1.773209  0.379780 -0.503198  1.800499  0.791461   \n",
       "3   1.0 -0.966272 -0.185226  1.792993 -0.863291 -0.010309  1.247203  0.237609   \n",
       "4   2.0 -1.158233  0.877737  1.548718  0.403034 -0.407193  0.095921  0.592941   \n",
       "\n",
       "         V8        V9  ...       V21       V22       V23       V24       V25  \\\n",
       "0  0.098698  0.363787  ... -0.018307  0.277838 -0.110474  0.066928  0.128539   \n",
       "1  0.085102 -0.255425  ... -0.225775 -0.638672  0.101288 -0.339846  0.167170   \n",
       "2  0.247676 -1.514654  ...  0.247998  0.771679  0.909412 -0.689281 -0.327642   \n",
       "3  0.377436 -1.387024  ... -0.108300  0.005274 -0.190321 -1.175575  0.647376   \n",
       "4 -0.270533  0.817739  ... -0.009431  0.798278 -0.137458  0.141267 -0.206010   \n",
       "\n",
       "        V26       V27       V28  Amount  Class  \n",
       "0 -0.189115  0.133558 -0.021053  149.62      0  \n",
       "1  0.125895 -0.008983  0.014724    2.69      0  \n",
       "2 -0.139097 -0.055353 -0.059752  378.66      0  \n",
       "3 -0.221929  0.062723  0.061458  123.50      0  \n",
       "4  0.502292  0.219422  0.215153   69.99      0  \n",
       "\n",
       "[5 rows x 31 columns]"
      ]
     },
     "execution_count": 2,
     "metadata": {},
     "output_type": "execute_result"
    }
   ],
   "source": [
    "import pandas as pd\n",
    "\n",
    "# Load the dataset\n",
    "data = pd.read_csv('/kaggle/input/creditcardfraud/creditcard.csv')\n",
    "\n",
    "# Display basic info\n",
    "print(\"Dataset Shape:\", data.shape)\n",
    "data.head()\n"
   ]
  },
  {
   "cell_type": "markdown",
   "id": "86a4383c",
   "metadata": {
    "papermill": {
     "duration": 0.007494,
     "end_time": "2025-01-07T16:35:36.101067",
     "exception": false,
     "start_time": "2025-01-07T16:35:36.093573",
     "status": "completed"
    },
    "tags": []
   },
   "source": [
    "\n",
    "\n",
    "### **Step 2: Summary Statistics**\n",
    "- **Objective**: Summarize key statistics for numerical columns.\n",
    "- **Findings**:\n",
    "  - `Time`: Ranges from 0 to ~172,800 seconds.\n",
    "  - `Amount`: Highly variable, with some significant outliers.\n",
    "  - `Class`: Highly imbalanced (fraud cases are rare).\n",
    "\n",
    "---\n"
   ]
  },
  {
   "cell_type": "code",
   "execution_count": 3,
   "id": "ef1c2a33",
   "metadata": {
    "execution": {
     "iopub.execute_input": "2025-01-07T16:35:36.117743Z",
     "iopub.status.busy": "2025-01-07T16:35:36.117345Z",
     "iopub.status.idle": "2025-01-07T16:35:36.553988Z",
     "shell.execute_reply": "2025-01-07T16:35:36.552966Z"
    },
    "papermill": {
     "duration": 0.446752,
     "end_time": "2025-01-07T16:35:36.555506",
     "exception": false,
     "start_time": "2025-01-07T16:35:36.108754",
     "status": "completed"
    },
    "tags": []
   },
   "outputs": [
    {
     "data": {
      "text/html": [
       "<div>\n",
       "<style scoped>\n",
       "    .dataframe tbody tr th:only-of-type {\n",
       "        vertical-align: middle;\n",
       "    }\n",
       "\n",
       "    .dataframe tbody tr th {\n",
       "        vertical-align: top;\n",
       "    }\n",
       "\n",
       "    .dataframe thead th {\n",
       "        text-align: right;\n",
       "    }\n",
       "</style>\n",
       "<table border=\"1\" class=\"dataframe\">\n",
       "  <thead>\n",
       "    <tr style=\"text-align: right;\">\n",
       "      <th></th>\n",
       "      <th>Time</th>\n",
       "      <th>V1</th>\n",
       "      <th>V2</th>\n",
       "      <th>V3</th>\n",
       "      <th>V4</th>\n",
       "      <th>V5</th>\n",
       "      <th>V6</th>\n",
       "      <th>V7</th>\n",
       "      <th>V8</th>\n",
       "      <th>V9</th>\n",
       "      <th>...</th>\n",
       "      <th>V21</th>\n",
       "      <th>V22</th>\n",
       "      <th>V23</th>\n",
       "      <th>V24</th>\n",
       "      <th>V25</th>\n",
       "      <th>V26</th>\n",
       "      <th>V27</th>\n",
       "      <th>V28</th>\n",
       "      <th>Amount</th>\n",
       "      <th>Class</th>\n",
       "    </tr>\n",
       "  </thead>\n",
       "  <tbody>\n",
       "    <tr>\n",
       "      <th>count</th>\n",
       "      <td>284807.000000</td>\n",
       "      <td>2.848070e+05</td>\n",
       "      <td>2.848070e+05</td>\n",
       "      <td>2.848070e+05</td>\n",
       "      <td>2.848070e+05</td>\n",
       "      <td>2.848070e+05</td>\n",
       "      <td>2.848070e+05</td>\n",
       "      <td>2.848070e+05</td>\n",
       "      <td>2.848070e+05</td>\n",
       "      <td>2.848070e+05</td>\n",
       "      <td>...</td>\n",
       "      <td>2.848070e+05</td>\n",
       "      <td>2.848070e+05</td>\n",
       "      <td>2.848070e+05</td>\n",
       "      <td>2.848070e+05</td>\n",
       "      <td>2.848070e+05</td>\n",
       "      <td>2.848070e+05</td>\n",
       "      <td>2.848070e+05</td>\n",
       "      <td>2.848070e+05</td>\n",
       "      <td>284807.000000</td>\n",
       "      <td>284807.000000</td>\n",
       "    </tr>\n",
       "    <tr>\n",
       "      <th>mean</th>\n",
       "      <td>94813.859575</td>\n",
       "      <td>1.168375e-15</td>\n",
       "      <td>3.416908e-16</td>\n",
       "      <td>-1.379537e-15</td>\n",
       "      <td>2.074095e-15</td>\n",
       "      <td>9.604066e-16</td>\n",
       "      <td>1.487313e-15</td>\n",
       "      <td>-5.556467e-16</td>\n",
       "      <td>1.213481e-16</td>\n",
       "      <td>-2.406331e-15</td>\n",
       "      <td>...</td>\n",
       "      <td>1.654067e-16</td>\n",
       "      <td>-3.568593e-16</td>\n",
       "      <td>2.578648e-16</td>\n",
       "      <td>4.473266e-15</td>\n",
       "      <td>5.340915e-16</td>\n",
       "      <td>1.683437e-15</td>\n",
       "      <td>-3.660091e-16</td>\n",
       "      <td>-1.227390e-16</td>\n",
       "      <td>88.349619</td>\n",
       "      <td>0.001727</td>\n",
       "    </tr>\n",
       "    <tr>\n",
       "      <th>std</th>\n",
       "      <td>47488.145955</td>\n",
       "      <td>1.958696e+00</td>\n",
       "      <td>1.651309e+00</td>\n",
       "      <td>1.516255e+00</td>\n",
       "      <td>1.415869e+00</td>\n",
       "      <td>1.380247e+00</td>\n",
       "      <td>1.332271e+00</td>\n",
       "      <td>1.237094e+00</td>\n",
       "      <td>1.194353e+00</td>\n",
       "      <td>1.098632e+00</td>\n",
       "      <td>...</td>\n",
       "      <td>7.345240e-01</td>\n",
       "      <td>7.257016e-01</td>\n",
       "      <td>6.244603e-01</td>\n",
       "      <td>6.056471e-01</td>\n",
       "      <td>5.212781e-01</td>\n",
       "      <td>4.822270e-01</td>\n",
       "      <td>4.036325e-01</td>\n",
       "      <td>3.300833e-01</td>\n",
       "      <td>250.120109</td>\n",
       "      <td>0.041527</td>\n",
       "    </tr>\n",
       "    <tr>\n",
       "      <th>min</th>\n",
       "      <td>0.000000</td>\n",
       "      <td>-5.640751e+01</td>\n",
       "      <td>-7.271573e+01</td>\n",
       "      <td>-4.832559e+01</td>\n",
       "      <td>-5.683171e+00</td>\n",
       "      <td>-1.137433e+02</td>\n",
       "      <td>-2.616051e+01</td>\n",
       "      <td>-4.355724e+01</td>\n",
       "      <td>-7.321672e+01</td>\n",
       "      <td>-1.343407e+01</td>\n",
       "      <td>...</td>\n",
       "      <td>-3.483038e+01</td>\n",
       "      <td>-1.093314e+01</td>\n",
       "      <td>-4.480774e+01</td>\n",
       "      <td>-2.836627e+00</td>\n",
       "      <td>-1.029540e+01</td>\n",
       "      <td>-2.604551e+00</td>\n",
       "      <td>-2.256568e+01</td>\n",
       "      <td>-1.543008e+01</td>\n",
       "      <td>0.000000</td>\n",
       "      <td>0.000000</td>\n",
       "    </tr>\n",
       "    <tr>\n",
       "      <th>25%</th>\n",
       "      <td>54201.500000</td>\n",
       "      <td>-9.203734e-01</td>\n",
       "      <td>-5.985499e-01</td>\n",
       "      <td>-8.903648e-01</td>\n",
       "      <td>-8.486401e-01</td>\n",
       "      <td>-6.915971e-01</td>\n",
       "      <td>-7.682956e-01</td>\n",
       "      <td>-5.540759e-01</td>\n",
       "      <td>-2.086297e-01</td>\n",
       "      <td>-6.430976e-01</td>\n",
       "      <td>...</td>\n",
       "      <td>-2.283949e-01</td>\n",
       "      <td>-5.423504e-01</td>\n",
       "      <td>-1.618463e-01</td>\n",
       "      <td>-3.545861e-01</td>\n",
       "      <td>-3.171451e-01</td>\n",
       "      <td>-3.269839e-01</td>\n",
       "      <td>-7.083953e-02</td>\n",
       "      <td>-5.295979e-02</td>\n",
       "      <td>5.600000</td>\n",
       "      <td>0.000000</td>\n",
       "    </tr>\n",
       "    <tr>\n",
       "      <th>50%</th>\n",
       "      <td>84692.000000</td>\n",
       "      <td>1.810880e-02</td>\n",
       "      <td>6.548556e-02</td>\n",
       "      <td>1.798463e-01</td>\n",
       "      <td>-1.984653e-02</td>\n",
       "      <td>-5.433583e-02</td>\n",
       "      <td>-2.741871e-01</td>\n",
       "      <td>4.010308e-02</td>\n",
       "      <td>2.235804e-02</td>\n",
       "      <td>-5.142873e-02</td>\n",
       "      <td>...</td>\n",
       "      <td>-2.945017e-02</td>\n",
       "      <td>6.781943e-03</td>\n",
       "      <td>-1.119293e-02</td>\n",
       "      <td>4.097606e-02</td>\n",
       "      <td>1.659350e-02</td>\n",
       "      <td>-5.213911e-02</td>\n",
       "      <td>1.342146e-03</td>\n",
       "      <td>1.124383e-02</td>\n",
       "      <td>22.000000</td>\n",
       "      <td>0.000000</td>\n",
       "    </tr>\n",
       "    <tr>\n",
       "      <th>75%</th>\n",
       "      <td>139320.500000</td>\n",
       "      <td>1.315642e+00</td>\n",
       "      <td>8.037239e-01</td>\n",
       "      <td>1.027196e+00</td>\n",
       "      <td>7.433413e-01</td>\n",
       "      <td>6.119264e-01</td>\n",
       "      <td>3.985649e-01</td>\n",
       "      <td>5.704361e-01</td>\n",
       "      <td>3.273459e-01</td>\n",
       "      <td>5.971390e-01</td>\n",
       "      <td>...</td>\n",
       "      <td>1.863772e-01</td>\n",
       "      <td>5.285536e-01</td>\n",
       "      <td>1.476421e-01</td>\n",
       "      <td>4.395266e-01</td>\n",
       "      <td>3.507156e-01</td>\n",
       "      <td>2.409522e-01</td>\n",
       "      <td>9.104512e-02</td>\n",
       "      <td>7.827995e-02</td>\n",
       "      <td>77.165000</td>\n",
       "      <td>0.000000</td>\n",
       "    </tr>\n",
       "    <tr>\n",
       "      <th>max</th>\n",
       "      <td>172792.000000</td>\n",
       "      <td>2.454930e+00</td>\n",
       "      <td>2.205773e+01</td>\n",
       "      <td>9.382558e+00</td>\n",
       "      <td>1.687534e+01</td>\n",
       "      <td>3.480167e+01</td>\n",
       "      <td>7.330163e+01</td>\n",
       "      <td>1.205895e+02</td>\n",
       "      <td>2.000721e+01</td>\n",
       "      <td>1.559499e+01</td>\n",
       "      <td>...</td>\n",
       "      <td>2.720284e+01</td>\n",
       "      <td>1.050309e+01</td>\n",
       "      <td>2.252841e+01</td>\n",
       "      <td>4.584549e+00</td>\n",
       "      <td>7.519589e+00</td>\n",
       "      <td>3.517346e+00</td>\n",
       "      <td>3.161220e+01</td>\n",
       "      <td>3.384781e+01</td>\n",
       "      <td>25691.160000</td>\n",
       "      <td>1.000000</td>\n",
       "    </tr>\n",
       "  </tbody>\n",
       "</table>\n",
       "<p>8 rows × 31 columns</p>\n",
       "</div>"
      ],
      "text/plain": [
       "                Time            V1            V2            V3            V4  \\\n",
       "count  284807.000000  2.848070e+05  2.848070e+05  2.848070e+05  2.848070e+05   \n",
       "mean    94813.859575  1.168375e-15  3.416908e-16 -1.379537e-15  2.074095e-15   \n",
       "std     47488.145955  1.958696e+00  1.651309e+00  1.516255e+00  1.415869e+00   \n",
       "min         0.000000 -5.640751e+01 -7.271573e+01 -4.832559e+01 -5.683171e+00   \n",
       "25%     54201.500000 -9.203734e-01 -5.985499e-01 -8.903648e-01 -8.486401e-01   \n",
       "50%     84692.000000  1.810880e-02  6.548556e-02  1.798463e-01 -1.984653e-02   \n",
       "75%    139320.500000  1.315642e+00  8.037239e-01  1.027196e+00  7.433413e-01   \n",
       "max    172792.000000  2.454930e+00  2.205773e+01  9.382558e+00  1.687534e+01   \n",
       "\n",
       "                 V5            V6            V7            V8            V9  \\\n",
       "count  2.848070e+05  2.848070e+05  2.848070e+05  2.848070e+05  2.848070e+05   \n",
       "mean   9.604066e-16  1.487313e-15 -5.556467e-16  1.213481e-16 -2.406331e-15   \n",
       "std    1.380247e+00  1.332271e+00  1.237094e+00  1.194353e+00  1.098632e+00   \n",
       "min   -1.137433e+02 -2.616051e+01 -4.355724e+01 -7.321672e+01 -1.343407e+01   \n",
       "25%   -6.915971e-01 -7.682956e-01 -5.540759e-01 -2.086297e-01 -6.430976e-01   \n",
       "50%   -5.433583e-02 -2.741871e-01  4.010308e-02  2.235804e-02 -5.142873e-02   \n",
       "75%    6.119264e-01  3.985649e-01  5.704361e-01  3.273459e-01  5.971390e-01   \n",
       "max    3.480167e+01  7.330163e+01  1.205895e+02  2.000721e+01  1.559499e+01   \n",
       "\n",
       "       ...           V21           V22           V23           V24  \\\n",
       "count  ...  2.848070e+05  2.848070e+05  2.848070e+05  2.848070e+05   \n",
       "mean   ...  1.654067e-16 -3.568593e-16  2.578648e-16  4.473266e-15   \n",
       "std    ...  7.345240e-01  7.257016e-01  6.244603e-01  6.056471e-01   \n",
       "min    ... -3.483038e+01 -1.093314e+01 -4.480774e+01 -2.836627e+00   \n",
       "25%    ... -2.283949e-01 -5.423504e-01 -1.618463e-01 -3.545861e-01   \n",
       "50%    ... -2.945017e-02  6.781943e-03 -1.119293e-02  4.097606e-02   \n",
       "75%    ...  1.863772e-01  5.285536e-01  1.476421e-01  4.395266e-01   \n",
       "max    ...  2.720284e+01  1.050309e+01  2.252841e+01  4.584549e+00   \n",
       "\n",
       "                V25           V26           V27           V28         Amount  \\\n",
       "count  2.848070e+05  2.848070e+05  2.848070e+05  2.848070e+05  284807.000000   \n",
       "mean   5.340915e-16  1.683437e-15 -3.660091e-16 -1.227390e-16      88.349619   \n",
       "std    5.212781e-01  4.822270e-01  4.036325e-01  3.300833e-01     250.120109   \n",
       "min   -1.029540e+01 -2.604551e+00 -2.256568e+01 -1.543008e+01       0.000000   \n",
       "25%   -3.171451e-01 -3.269839e-01 -7.083953e-02 -5.295979e-02       5.600000   \n",
       "50%    1.659350e-02 -5.213911e-02  1.342146e-03  1.124383e-02      22.000000   \n",
       "75%    3.507156e-01  2.409522e-01  9.104512e-02  7.827995e-02      77.165000   \n",
       "max    7.519589e+00  3.517346e+00  3.161220e+01  3.384781e+01   25691.160000   \n",
       "\n",
       "               Class  \n",
       "count  284807.000000  \n",
       "mean        0.001727  \n",
       "std         0.041527  \n",
       "min         0.000000  \n",
       "25%         0.000000  \n",
       "50%         0.000000  \n",
       "75%         0.000000  \n",
       "max         1.000000  \n",
       "\n",
       "[8 rows x 31 columns]"
      ]
     },
     "execution_count": 3,
     "metadata": {},
     "output_type": "execute_result"
    }
   ],
   "source": [
    "data.describe()"
   ]
  },
  {
   "cell_type": "markdown",
   "id": "25b000c3",
   "metadata": {
    "papermill": {
     "duration": 0.007976,
     "end_time": "2025-01-07T16:35:36.571967",
     "exception": false,
     "start_time": "2025-01-07T16:35:36.563991",
     "status": "completed"
    },
    "tags": []
   },
   "source": [
    "### **Step 3: Visualizations**\n",
    "#### **Transaction Amount Distribution**\n",
    "- **Objective**: Visualize the distribution of transaction amounts.\n",
    "- **Insights**: Most transactions are low in value, with a few high-value outliers.\n",
    "\n",
    "#### **Class Distribution**\n",
    "- **Objective**: Understand the class balance.\n",
    "- **Insights**: The dataset is highly imbalanced, with only ~0.17% fraud cases.\n",
    "\n",
    "---\n"
   ]
  },
  {
   "cell_type": "code",
   "execution_count": 4,
   "id": "1b903120",
   "metadata": {
    "execution": {
     "iopub.execute_input": "2025-01-07T16:35:36.590735Z",
     "iopub.status.busy": "2025-01-07T16:35:36.590346Z",
     "iopub.status.idle": "2025-01-07T16:35:39.918476Z",
     "shell.execute_reply": "2025-01-07T16:35:39.917585Z"
    },
    "papermill": {
     "duration": 3.339708,
     "end_time": "2025-01-07T16:35:39.920264",
     "exception": false,
     "start_time": "2025-01-07T16:35:36.580556",
     "status": "completed"
    },
    "tags": []
   },
   "outputs": [
    {
     "name": "stderr",
     "output_type": "stream",
     "text": [
      "/usr/local/lib/python3.10/dist-packages/seaborn/_oldcore.py:1119: FutureWarning: use_inf_as_na option is deprecated and will be removed in a future version. Convert inf values to NaN before operating instead.\n",
      "  with pd.option_context('mode.use_inf_as_na', True):\n"
     ]
    },
    {
     "data": {
      "image/png": "[encoded data removed]",
      "text/plain": [
       "<Figure size 640x480 with 1 Axes>"
      ]
     },
     "metadata": {},
     "output_type": "display_data"
    }
   ],
   "source": [
    "import seaborn as sns\n",
    "import matplotlib.pyplot as plt\n",
    "\n",
    "sns.histplot(data['Amount'], bins=50, kde=True, color='blue')\n",
    "plt.title('Transaction Amount Distribution')\n",
    "plt.show()\n"
   ]
  },
  {
   "cell_type": "markdown",
   "id": "9b6e5767",
   "metadata": {
    "papermill": {
     "duration": 0.00867,
     "end_time": "2025-01-07T16:35:39.938180",
     "exception": false,
     "start_time": "2025-01-07T16:35:39.929510",
     "status": "completed"
    },
    "tags": []
   },
   "source": [
    "\n",
    "#### **Class Distribution**\n",
    "- **Objective**: Understand the balance between fraud and non-fraud transactions.\n",
    "- **Insights**: Dataset is highly imbalanced, with only ~0.17% fraud cases.\n",
    "\n"
   ]
  },
  {
   "cell_type": "code",
   "execution_count": 5,
   "id": "94cbf0e2",
   "metadata": {
    "execution": {
     "iopub.execute_input": "2025-01-07T16:35:39.957359Z",
     "iopub.status.busy": "2025-01-07T16:35:39.956864Z",
     "iopub.status.idle": "2025-01-07T16:35:40.107533Z",
     "shell.execute_reply": "2025-01-07T16:35:40.106111Z"
    },
    "papermill": {
     "duration": 0.163255,
     "end_time": "2025-01-07T16:35:40.110345",
     "exception": false,
     "start_time": "2025-01-07T16:35:39.947090",
     "status": "completed"
    },
    "tags": []
   },
   "outputs": [
    {
     "data": {
      "image/png": "[encoded data removed]",
      "text/plain": [
       "<Figure size 640x480 with 1 Axes>"
      ]
     },
     "metadata": {},
     "output_type": "display_data"
    }
   ],
   "source": [
    "sns.countplot(x='Class', data=data, palette='Set1')\n",
    "plt.title('Class Distribution (0 = Non-Fraud, 1 = Fraud)')\n",
    "plt.show()"
   ]
  },
  {
   "cell_type": "markdown",
   "id": "23fe1d39",
   "metadata": {
    "papermill": {
     "duration": 0.008909,
     "end_time": "2025-01-07T16:35:40.136720",
     "exception": false,
     "start_time": "2025-01-07T16:35:40.127811",
     "status": "completed"
    },
    "tags": []
   },
   "source": [
    "\n",
    "### **Step 4: Correlation Analysis**\n",
    "- **Objective**: Identify relationships between features and the target variable (`Class`).\n",
    "- **Insights**:\n",
    "  - Certain PCA components show correlations with `Class`.\n",
    "  - `Amount` has a weak correlation with fraud.\n",
    "\n",
    "---\n"
   ]
  },
  {
   "cell_type": "code",
   "execution_count": 6,
   "id": "3b250cca",
   "metadata": {
    "execution": {
     "iopub.execute_input": "2025-01-07T16:35:40.156193Z",
     "iopub.status.busy": "2025-01-07T16:35:40.155872Z",
     "iopub.status.idle": "2025-01-07T16:35:41.569694Z",
     "shell.execute_reply": "2025-01-07T16:35:41.568812Z"
    },
    "papermill": {
     "duration": 1.425272,
     "end_time": "2025-01-07T16:35:41.571135",
     "exception": false,
     "start_time": "2025-01-07T16:35:40.145863",
     "status": "completed"
    },
    "tags": []
   },
   "outputs": [
    {
     "data": {
      "image/png": "[encoded data removed]",
      "text/plain": [
       "<Figure size 1500x1000 with 2 Axes>"
      ]
     },
     "metadata": {},
     "output_type": "display_data"
    }
   ],
   "source": [
    "plt.figure(figsize=(15, 10))\n",
    "sns.heatmap(data.corr(), cmap='coolwarm', annot=False)\n",
    "plt.title('Correlation Heatmap')\n",
    "plt.show()\n"
   ]
  },
  {
   "cell_type": "markdown",
   "id": "54f020a2",
   "metadata": {
    "papermill": {
     "duration": 0.011041,
     "end_time": "2025-01-07T16:35:41.595612",
     "exception": false,
     "start_time": "2025-01-07T16:35:41.584571",
     "status": "completed"
    },
    "tags": []
   },
   "source": [
    "\n",
    "### **Step 5: Missing Value Analysis**\n",
    "- **Objective**: Check for missing values in the dataset.\n",
    "- **Result**: No missing values were found.\n",
    "\n",
    "---\n",
    "\n",
    "\n",
    "\n"
   ]
  },
  {
   "cell_type": "code",
   "execution_count": 7,
   "id": "0b4c6263",
   "metadata": {
    "execution": {
     "iopub.execute_input": "2025-01-07T16:35:41.618003Z",
     "iopub.status.busy": "2025-01-07T16:35:41.617612Z",
     "iopub.status.idle": "2025-01-07T16:35:41.638528Z",
     "shell.execute_reply": "2025-01-07T16:35:41.637251Z"
    },
    "papermill": {
     "duration": 0.034034,
     "end_time": "2025-01-07T16:35:41.640219",
     "exception": false,
     "start_time": "2025-01-07T16:35:41.606185",
     "status": "completed"
    },
    "tags": []
   },
   "outputs": [
    {
     "name": "stdout",
     "output_type": "stream",
     "text": [
      "Time      0\n",
      "V1        0\n",
      "V2        0\n",
      "V3        0\n",
      "V4        0\n",
      "V5        0\n",
      "V6        0\n",
      "V7        0\n",
      "V8        0\n",
      "V9        0\n",
      "V10       0\n",
      "V11       0\n",
      "V12       0\n",
      "V13       0\n",
      "V14       0\n",
      "V15       0\n",
      "V16       0\n",
      "V17       0\n",
      "V18       0\n",
      "V19       0\n",
      "V20       0\n",
      "V21       0\n",
      "V22       0\n",
      "V23       0\n",
      "V24       0\n",
      "V25       0\n",
      "V26       0\n",
      "V27       0\n",
      "V28       0\n",
      "Amount    0\n",
      "Class     0\n",
      "dtype: int64\n"
     ]
    }
   ],
   "source": [
    "print(data.isnull().sum())\n"
   ]
  },
  {
   "cell_type": "markdown",
   "id": "12c45f1b",
   "metadata": {
    "papermill": {
     "duration": 0.010267,
     "end_time": "2025-01-07T16:35:41.661356",
     "exception": false,
     "start_time": "2025-01-07T16:35:41.651089",
     "status": "completed"
    },
    "tags": []
   },
   "source": [
    "\n",
    "### **Step 6: Outlier Detection**\n",
    "#### **Box Plot for Transaction Amount**\n",
    "- **Objective**: Detect outliers in transaction amounts.\n",
    "- **Insights**: Several high-value transactions are outliers, potentially fraudulent.\n",
    "\n",
    "---\n",
    "\n"
   ]
  },
  {
   "cell_type": "code",
   "execution_count": 8,
   "id": "ac90c267",
   "metadata": {
    "execution": {
     "iopub.execute_input": "2025-01-07T16:35:41.683593Z",
     "iopub.status.busy": "2025-01-07T16:35:41.683281Z",
     "iopub.status.idle": "2025-01-07T16:35:41.865588Z",
     "shell.execute_reply": "2025-01-07T16:35:41.864664Z"
    },
    "papermill": {
     "duration": 0.195381,
     "end_time": "2025-01-07T16:35:41.867276",
     "exception": false,
     "start_time": "2025-01-07T16:35:41.671895",
     "status": "completed"
    },
    "tags": []
   },
   "outputs": [
    {
     "data": {
      "image/png": "[encoded data removed]",
      "text/plain": [
       "<Figure size 640x480 with 1 Axes>"
      ]
     },
     "metadata": {},
     "output_type": "display_data"
    }
   ],
   "source": [
    "sns.boxplot(x=data['Amount'], color='orange')\n",
    "plt.title('Boxplot of Transaction Amount')\n",
    "plt.show()\n"
   ]
  },
  {
   "cell_type": "markdown",
   "id": "c7cf2e4c",
   "metadata": {
    "papermill": {
     "duration": 0.010783,
     "end_time": "2025-01-07T16:35:41.889469",
     "exception": false,
     "start_time": "2025-01-07T16:35:41.878686",
     "status": "completed"
    },
    "tags": []
   },
   "source": [
    "\n",
    "### **Step 7: Feature Distribution**\n",
    "#### **Density Plots for PCA Components**\n",
    "- **Objective**: Analyze the distributions of PCA-transformed features.\n",
    "- **Insights**: PCA features are centered around zero, with varying spreads.\n",
    "\n",
    "---\n",
    "\n"
   ]
  },
  {
   "cell_type": "code",
   "execution_count": 9,
   "id": "8c687392",
   "metadata": {
    "execution": {
     "iopub.execute_input": "2025-01-07T16:35:41.912294Z",
     "iopub.status.busy": "2025-01-07T16:35:41.912000Z",
     "iopub.status.idle": "2025-01-07T16:35:47.207665Z",
     "shell.execute_reply": "2025-01-07T16:35:47.206570Z"
    },
    "papermill": {
     "duration": 5.308875,
     "end_time": "2025-01-07T16:35:47.209348",
     "exception": false,
     "start_time": "2025-01-07T16:35:41.900473",
     "status": "completed"
    },
    "tags": []
   },
   "outputs": [
    {
     "name": "stderr",
     "output_type": "stream",
     "text": [
      "/usr/local/lib/python3.10/dist-packages/seaborn/_oldcore.py:1119: FutureWarning: use_inf_as_na option is deprecated and will be removed in a future version. Convert inf values to NaN before operating instead.\n",
      "  with pd.option_context('mode.use_inf_as_na', True):\n",
      "/usr/local/lib/python3.10/dist-packages/seaborn/_oldcore.py:1119: FutureWarning: use_inf_as_na option is deprecated and will be removed in a future version. Convert inf values to NaN before operating instead.\n",
      "  with pd.option_context('mode.use_inf_as_na', True):\n",
      "/usr/local/lib/python3.10/dist-packages/seaborn/_oldcore.py:1119: FutureWarning: use_inf_as_na option is deprecated and will be removed in a future version. Convert inf values to NaN before operating instead.\n",
      "  with pd.option_context('mode.use_inf_as_na', True):\n",
      "/usr/local/lib/python3.10/dist-packages/seaborn/_oldcore.py:1119: FutureWarning: use_inf_as_na option is deprecated and will be removed in a future version. Convert inf values to NaN before operating instead.\n",
      "  with pd.option_context('mode.use_inf_as_na', True):\n"
     ]
    },
    {
     "data": {
      "image/png": "[encoded data removed]",
      "text/plain": [
       "<Figure size 640x480 with 1 Axes>"
      ]
     },
     "metadata": {},
     "output_type": "display_data"
    }
   ],
   "source": [
    "for col in ['V1', 'V2', 'V3', 'V4']:\n",
    "    sns.kdeplot(data[col], fill=True, label=col)\n",
    "plt.title('Feature Distributions (PCA Components)')\n",
    "plt.legend()\n",
    "plt.show()\n"
   ]
  },
  {
   "cell_type": "markdown",
   "id": "62e768ef",
   "metadata": {
    "papermill": {
     "duration": 0.01179,
     "end_time": "2025-01-07T16:35:47.233601",
     "exception": false,
     "start_time": "2025-01-07T16:35:47.221811",
     "status": "completed"
    },
    "tags": []
   },
   "source": [
    "\n",
    "### **Step 8: Data Types and Unique Value Counts**\n",
    "- **Objective**: Understand data types and cardinality.\n",
    "- **Insights**:\n",
    "  - All features are numerical.\n",
    "  - `Class` is binary (0 or 1).\n",
    "\n",
    "---\n",
    "\n",
    "\n"
   ]
  },
  {
   "cell_type": "code",
   "execution_count": 10,
   "id": "c07e99bd",
   "metadata": {
    "execution": {
     "iopub.execute_input": "2025-01-07T16:35:47.259158Z",
     "iopub.status.busy": "2025-01-07T16:35:47.258810Z",
     "iopub.status.idle": "2025-01-07T16:35:47.599352Z",
     "shell.execute_reply": "2025-01-07T16:35:47.598051Z"
    },
    "papermill": {
     "duration": 0.355646,
     "end_time": "2025-01-07T16:35:47.601099",
     "exception": false,
     "start_time": "2025-01-07T16:35:47.245453",
     "status": "completed"
    },
    "tags": []
   },
   "outputs": [
    {
     "name": "stdout",
     "output_type": "stream",
     "text": [
      "Time      float64\n",
      "V1        float64\n",
      "V2        float64\n",
      "V3        float64\n",
      "V4        float64\n",
      "V5        float64\n",
      "V6        float64\n",
      "V7        float64\n",
      "V8        float64\n",
      "V9        float64\n",
      "V10       float64\n",
      "V11       float64\n",
      "V12       float64\n",
      "V13       float64\n",
      "V14       float64\n",
      "V15       float64\n",
      "V16       float64\n",
      "V17       float64\n",
      "V18       float64\n",
      "V19       float64\n",
      "V20       float64\n",
      "V21       float64\n",
      "V22       float64\n",
      "V23       float64\n",
      "V24       float64\n",
      "V25       float64\n",
      "V26       float64\n",
      "V27       float64\n",
      "V28       float64\n",
      "Amount    float64\n",
      "Class       int64\n",
      "dtype: object\n",
      "\n",
      "Unique Value Counts:\n",
      "Time: 124592\n",
      "V1: 275663\n",
      "V2: 275663\n",
      "V3: 275663\n",
      "V4: 275663\n",
      "V5: 275663\n",
      "V6: 275663\n",
      "V7: 275663\n",
      "V8: 275663\n",
      "V9: 275663\n",
      "V10: 275663\n",
      "V11: 275663\n",
      "V12: 275663\n",
      "V13: 275663\n",
      "V14: 275663\n",
      "V15: 275663\n",
      "V16: 275663\n",
      "V17: 275663\n",
      "V18: 275663\n",
      "V19: 275663\n",
      "V20: 275663\n",
      "V21: 275663\n",
      "V22: 275663\n",
      "V23: 275663\n",
      "V24: 275663\n",
      "V25: 275663\n",
      "V26: 275663\n",
      "V27: 275663\n",
      "V28: 275663\n",
      "Amount: 32767\n",
      "Class: 2\n"
     ]
    }
   ],
   "source": [
    "print(data.dtypes)\n",
    "print(\"\\nUnique Value Counts:\")\n",
    "for col in data.columns:\n",
    "    print(f\"{col}: {data[col].nunique()}\")\n"
   ]
  },
  {
   "cell_type": "markdown",
   "id": "17a806a6",
   "metadata": {
    "papermill": {
     "duration": 0.011759,
     "end_time": "2025-01-07T16:35:47.625083",
     "exception": false,
     "start_time": "2025-01-07T16:35:47.613324",
     "status": "completed"
    },
    "tags": []
   },
   "source": [
    "### **Step 9: Trend Analysis**\n",
    "#### **Transaction Counts by Hour**\n",
    "- **Objective**: Analyze transaction activity over a 24-hour period.\n",
    "- **Insights**: Higher activity during specific hours, likely business hours.\n",
    "\n",
    "---\n",
    "\n"
   ]
  },
  {
   "cell_type": "code",
   "execution_count": 11,
   "id": "17487e0a",
   "metadata": {
    "execution": {
     "iopub.execute_input": "2025-01-07T16:35:47.650888Z",
     "iopub.status.busy": "2025-01-07T16:35:47.650503Z",
     "iopub.status.idle": "2025-01-07T16:35:49.120346Z",
     "shell.execute_reply": "2025-01-07T16:35:49.119478Z"
    },
    "papermill": {
     "duration": 1.484912,
     "end_time": "2025-01-07T16:35:49.122164",
     "exception": false,
     "start_time": "2025-01-07T16:35:47.637252",
     "status": "completed"
    },
    "tags": []
   },
   "outputs": [
    {
     "name": "stderr",
     "output_type": "stream",
     "text": [
      "/usr/local/lib/python3.10/dist-packages/seaborn/_oldcore.py:1119: FutureWarning: use_inf_as_na option is deprecated and will be removed in a future version. Convert inf values to NaN before operating instead.\n",
      "  with pd.option_context('mode.use_inf_as_na', True):\n"
     ]
    },
    {
     "data": {
      "image/png": "[encoded data removed]",
      "text/plain": [
       "<Figure size 640x480 with 1 Axes>"
      ]
     },
     "metadata": {},
     "output_type": "display_data"
    }
   ],
   "source": [
    "data['Hour'] = (data['Time'] / 3600) % 24\n",
    "sns.histplot(data['Hour'], bins=24, kde=True, color='green')\n",
    "plt.title('Transaction Counts by Hour')\n",
    "plt.show()\n"
   ]
  },
  {
   "cell_type": "markdown",
   "id": "d1a1804d",
   "metadata": {
    "papermill": {
     "duration": 0.012651,
     "end_time": "2025-01-07T16:35:49.148045",
     "exception": false,
     "start_time": "2025-01-07T16:35:49.135394",
     "status": "completed"
    },
    "tags": []
   },
   "source": [
    "\n",
    "### **Step 10: Grouped Aggregations**\n",
    "#### **Average Amount by Class**\n",
    "- **Objective**: Compare average transaction amounts for fraud vs. non-fraud transactions.\n",
    "- **Insights**: Fraudulent transactions have a higher average amount compared to non-fraudulent ones.\n",
    "\n",
    "---"
   ]
  },
  {
   "cell_type": "code",
   "execution_count": 12,
   "id": "ac689185",
   "metadata": {
    "execution": {
     "iopub.execute_input": "2025-01-07T16:35:49.175757Z",
     "iopub.status.busy": "2025-01-07T16:35:49.175349Z",
     "iopub.status.idle": "2025-01-07T16:35:49.191737Z",
     "shell.execute_reply": "2025-01-07T16:35:49.190576Z"
    },
    "papermill": {
     "duration": 0.032316,
     "end_time": "2025-01-07T16:35:49.193390",
     "exception": false,
     "start_time": "2025-01-07T16:35:49.161074",
     "status": "completed"
    },
    "tags": []
   },
   "outputs": [
    {
     "name": "stdout",
     "output_type": "stream",
     "text": [
      "Class\n",
      "0     88.291022\n",
      "1    122.211321\n",
      "Name: Amount, dtype: float64\n"
     ]
    }
   ],
   "source": [
    "avg_amount_by_class = data.groupby('Class')['Amount'].mean()\n",
    "print(avg_amount_by_class)\n"
   ]
  },
  {
   "cell_type": "markdown",
   "id": "3d8240fd",
   "metadata": {
    "papermill": {
     "duration": 0.013155,
     "end_time": "2025-01-07T16:35:49.220498",
     "exception": false,
     "start_time": "2025-01-07T16:35:49.207343",
     "status": "completed"
    },
    "tags": []
   },
   "source": [
    "-----"
   ]
  },
  {
   "cell_type": "markdown",
   "id": "428f34f8",
   "metadata": {
    "papermill": {
     "duration": 0.012781,
     "end_time": "2025-01-07T16:35:49.246513",
     "exception": false,
     "start_time": "2025-01-07T16:35:49.233732",
     "status": "completed"
    },
    "tags": []
   },
   "source": [
    "\n",
    "\n",
    "\n",
    "## **Data Preprocessing**\n",
    "\n",
    "### **Objective**\n",
    "To prepare the dataset for machine learning by addressing class imbalance, scaling features, and splitting the data into training and testing sets. Additional transformations are applied to enhance model performance.\n",
    "\n",
    "\n",
    "\n",
    "\n"
   ]
  },
  {
   "cell_type": "markdown",
   "id": "db2bdeb1",
   "metadata": {
    "papermill": {
     "duration": 0.013052,
     "end_time": "2025-01-07T16:35:49.272768",
     "exception": false,
     "start_time": "2025-01-07T16:35:49.259716",
     "status": "completed"
    },
    "tags": []
   },
   "source": [
    "\n",
    "\n",
    "### **Step 1: Handle Class Imbalance**\n",
    "- **Objective**: Address the severe class imbalance in the dataset, where only 0.17% of transactions are fraudulent.\n",
    "- **Approach**: Upsampled the minority class (fraudulent transactions) to match the number of non-fraudulent transactions.\n",
    "- **Result**: The dataset is now balanced, with an equal number of fraud and non-fraud cases. This prevents bias in the machine learning model.\n",
    "\n",
    "---\n"
   ]
  },
  {
   "cell_type": "code",
   "execution_count": 13,
   "id": "9f1c0e6e",
   "metadata": {
    "execution": {
     "iopub.execute_input": "2025-01-07T16:35:49.300180Z",
     "iopub.status.busy": "2025-01-07T16:35:49.299844Z",
     "iopub.status.idle": "2025-01-07T16:35:50.134693Z",
     "shell.execute_reply": "2025-01-07T16:35:50.133618Z"
    },
    "papermill": {
     "duration": 0.850639,
     "end_time": "2025-01-07T16:35:50.136373",
     "exception": false,
     "start_time": "2025-01-07T16:35:49.285734",
     "status": "completed"
    },
    "tags": []
   },
   "outputs": [
    {
     "data": {
      "image/png": "[encoded data removed]",
      "text/plain": [
       "<Figure size 640x480 with 1 Axes>"
      ]
     },
     "metadata": {},
     "output_type": "display_data"
    }
   ],
   "source": [
    "from sklearn.utils import resample\n",
    "\n",
    "# Separate the majority and minority classes\n",
    "fraud = data[data['Class'] == 1]\n",
    "non_fraud = data[data['Class'] == 0]\n",
    "\n",
    "# Upsample the minority class\n",
    "fraud_upsampled = resample(fraud, replace=True, n_samples=len(non_fraud), random_state=42)\n",
    "\n",
    "# Combine the upsampled minority class with the majority class\n",
    "balanced_data = pd.concat([non_fraud, fraud_upsampled])\n",
    "\n",
    "# Shuffle the dataset\n",
    "balanced_data = balanced_data.sample(frac=1, random_state=42).reset_index(drop=True)\n",
    "\n",
    "# Check the new class distribution\n",
    "sns.countplot(x='Class', data=balanced_data, palette='Set1')\n",
    "plt.title('Balanced Class Distribution')\n",
    "plt.show()\n"
   ]
  },
  {
   "cell_type": "markdown",
   "id": "8ca6df75",
   "metadata": {
    "papermill": {
     "duration": 0.013416,
     "end_time": "2025-01-07T16:35:50.163767",
     "exception": false,
     "start_time": "2025-01-07T16:35:50.150351",
     "status": "completed"
    },
    "tags": []
   },
   "source": [
    "\n",
    "### **Step 2: Scale Numerical Features**\n",
    "- **Objective**: Standardize numerical features (`Amount` and PCA components) to ensure they are on a similar scale.\n",
    "- **Approach**: Applied standardization to rescale features to have a mean of 0 and standard deviation of 1.\n",
    "- **Result**: Numerical features are now scaled, improving model convergence and performance.\n",
    "\n",
    "---\n",
    "\n"
   ]
  },
  {
   "cell_type": "code",
   "execution_count": 14,
   "id": "8542e5f5",
   "metadata": {
    "execution": {
     "iopub.execute_input": "2025-01-07T16:35:50.192019Z",
     "iopub.status.busy": "2025-01-07T16:35:50.191612Z",
     "iopub.status.idle": "2025-01-07T16:35:50.509984Z",
     "shell.execute_reply": "2025-01-07T16:35:50.508827Z"
    },
    "papermill": {
     "duration": 0.3349,
     "end_time": "2025-01-07T16:35:50.512113",
     "exception": false,
     "start_time": "2025-01-07T16:35:50.177213",
     "status": "completed"
    },
    "tags": []
   },
   "outputs": [],
   "source": [
    "from sklearn.preprocessing import StandardScaler\n",
    "\n",
    "# Extract features and target\n",
    "X = balanced_data.drop(columns=['Class'])\n",
    "y = balanced_data['Class']\n",
    "\n",
    "# Scale numerical features\n",
    "scaler = StandardScaler()\n",
    "X_scaled = scaler.fit_transform(X)\n"
   ]
  },
  {
   "cell_type": "markdown",
   "id": "c135e13a",
   "metadata": {
    "papermill": {
     "duration": 0.013589,
     "end_time": "2025-01-07T16:35:50.540041",
     "exception": false,
     "start_time": "2025-01-07T16:35:50.526452",
     "status": "completed"
    },
    "tags": []
   },
   "source": [
    "### **Step 3: Split the Dataset**\n",
    "- **Objective**: Divide the dataset into training and testing sets for model training and evaluation.\n",
    "- **Approach**: Split the dataset into 80% training and 20% testing data, ensuring a fair evaluation of the model.\n",
    "- **Result**: The dataset is ready for training and evaluation with consistent class proportions across splits.\n",
    "\n",
    "---\n",
    "\n",
    "\n"
   ]
  },
  {
   "cell_type": "code",
   "execution_count": 15,
   "id": "c9a52d8e",
   "metadata": {
    "execution": {
     "iopub.execute_input": "2025-01-07T16:35:50.569170Z",
     "iopub.status.busy": "2025-01-07T16:35:50.568857Z",
     "iopub.status.idle": "2025-01-07T16:35:50.937694Z",
     "shell.execute_reply": "2025-01-07T16:35:50.936557Z"
    },
    "papermill": {
     "duration": 0.385199,
     "end_time": "2025-01-07T16:35:50.939232",
     "exception": false,
     "start_time": "2025-01-07T16:35:50.554033",
     "status": "completed"
    },
    "tags": []
   },
   "outputs": [
    {
     "name": "stdout",
     "output_type": "stream",
     "text": [
      "Training Set Shape: (454904, 31)\n",
      "Testing Set Shape: (113726, 31)\n"
     ]
    }
   ],
   "source": [
    "from sklearn.model_selection import train_test_split\n",
    "\n",
    "# Split the dataset into training and testing sets\n",
    "X_train, X_test, y_train, y_test = train_test_split(X_scaled, y, test_size=0.2, random_state=42)\n",
    "\n",
    "# Check the shapes of the splits\n",
    "print(\"Training Set Shape:\", X_train.shape)\n",
    "print(\"Testing Set Shape:\", X_test.shape)\n"
   ]
  },
  {
   "cell_type": "markdown",
   "id": "f30ad646",
   "metadata": {
    "papermill": {
     "duration": 0.013866,
     "end_time": "2025-01-07T16:35:50.967932",
     "exception": false,
     "start_time": "2025-01-07T16:35:50.954066",
     "status": "completed"
    },
    "tags": []
   },
   "source": [
    "### **Step 4: Encode Categorical Variables**\n",
    "- **Objective**: Encode categorical features to numeric representations, if present.\n",
    "- **Approach**: Skipped this step, as the dataset contains only numerical features.\n",
    "- **Result**: No changes were required.\n",
    "---\n"
   ]
  },
  {
   "cell_type": "markdown",
   "id": "824cb62c",
   "metadata": {
    "papermill": {
     "duration": 0.013548,
     "end_time": "2025-01-07T16:35:50.995473",
     "exception": false,
     "start_time": "2025-01-07T16:35:50.981925",
     "status": "completed"
    },
    "tags": []
   },
   "source": [
    "\n",
    "\n",
    "### **Step 5: Additional Transformations**\n",
    "- **Objective**: Address skewness in the `Amount` feature to improve feature distribution.\n",
    "- **Approach**: Applied a log transformation to normalize the `Amount` distribution.\n",
    "- **Result**: The `Amount` feature is now more evenly distributed, reducing the impact of outliers.\n",
    "\n",
    "---"
   ]
  },
  {
   "cell_type": "code",
   "execution_count": 16,
   "id": "c3ef28d0",
   "metadata": {
    "execution": {
     "iopub.execute_input": "2025-01-07T16:35:51.024897Z",
     "iopub.status.busy": "2025-01-07T16:35:51.024515Z",
     "iopub.status.idle": "2025-01-07T16:35:51.443242Z",
     "shell.execute_reply": "2025-01-07T16:35:51.442422Z"
    },
    "papermill": {
     "duration": 0.435493,
     "end_time": "2025-01-07T16:35:51.445022",
     "exception": false,
     "start_time": "2025-01-07T16:35:51.009529",
     "status": "completed"
    },
    "tags": []
   },
   "outputs": [],
   "source": [
    "# Apply log transformation to the 'Amount' feature to reduce skewness\n",
    "balanced_data['Amount'] = np.log1p(balanced_data['Amount'])\n",
    "\n",
    "# Re-scale after transformation\n",
    "X = balanced_data.drop(columns=['Class'])\n",
    "X_scaled = scaler.fit_transform(X)\n"
   ]
  },
  {
   "cell_type": "markdown",
   "id": "6ff7a52f",
   "metadata": {
    "papermill": {
     "duration": 0.014035,
     "end_time": "2025-01-07T16:35:51.473537",
     "exception": false,
     "start_time": "2025-01-07T16:35:51.459502",
     "status": "completed"
    },
    "tags": []
   },
   "source": [
    "---\n"
   ]
  },
  {
   "cell_type": "markdown",
   "id": "f9fc78fa",
   "metadata": {
    "papermill": {
     "duration": 0.013904,
     "end_time": "2025-01-07T16:35:51.501720",
     "exception": false,
     "start_time": "2025-01-07T16:35:51.487816",
     "status": "completed"
    },
    "tags": []
   },
   "source": [
    "\n",
    "## **Machine Learning Models**\n",
    "\n",
    "### **Objective**\n",
    "Develop and evaluate machine learning models to detect fraudulent transactions. Start with a baseline model for benchmarking and then train an advanced Multi-Layer Perceptron (MLP) model for improved performance.\n"
   ]
  },
  {
   "cell_type": "markdown",
   "id": "63b754f5",
   "metadata": {
    "papermill": {
     "duration": 0.014012,
     "end_time": "2025-01-07T16:35:51.529808",
     "exception": false,
     "start_time": "2025-01-07T16:35:51.515796",
     "status": "completed"
    },
    "tags": []
   },
   "source": [
    "\n",
    "\n",
    "\n",
    "### **Step 1: Baseline Model (Logistic Regression)**\n",
    "- **Objective**: Establish a benchmark for fraud detection using Logistic Regression.\n",
    "- **Approach**:\n",
    "  - Train a Logistic Regression model on the preprocessed data.\n",
    "  - Evaluate the model using a classification report and the Precision-Recall Curve (AUPRC).\n",
    "- **Results**:\n",
    "  - Classification Report:\n",
    "    - Includes precision, recall, F1-score, and support for both classes.\n",
    "  - Precision-Recall Curve (AUPRC):\n",
    "    - Measures performance, especially for the minority class (fraud cases).\n",
    "\n",
    "---\n"
   ]
  },
  {
   "cell_type": "code",
   "execution_count": 17,
   "id": "21aa54cd",
   "metadata": {
    "execution": {
     "iopub.execute_input": "2025-01-07T16:35:51.560261Z",
     "iopub.status.busy": "2025-01-07T16:35:51.559897Z",
     "iopub.status.idle": "2025-01-07T16:35:58.796860Z",
     "shell.execute_reply": "2025-01-07T16:35:58.792754Z"
    },
    "papermill": {
     "duration": 7.257099,
     "end_time": "2025-01-07T16:35:58.801461",
     "exception": false,
     "start_time": "2025-01-07T16:35:51.544362",
     "status": "completed"
    },
    "tags": []
   },
   "outputs": [
    {
     "name": "stderr",
     "output_type": "stream",
     "text": [
      "/usr/local/lib/python3.10/dist-packages/sklearn/linear_model/_logistic.py:458: ConvergenceWarning: lbfgs failed to converge (status=1):\n",
      "STOP: TOTAL NO. of ITERATIONS REACHED LIMIT.\n",
      "\n",
      "Increase the number of iterations (max_iter) or scale the data as shown in:\n",
      "    https://scikit-learn.org/stable/modules/preprocessing.html\n",
      "Please also refer to the documentation for alternative solver options:\n",
      "    https://scikit-learn.org/stable/modules/linear_model.html#logistic-regression\n",
      "  n_iter_i = _check_optimize_result(\n"
     ]
    },
    {
     "name": "stdout",
     "output_type": "stream",
     "text": [
      "Classification Report (Logistic Regression):\n",
      "\n",
      "              precision    recall  f1-score   support\n",
      "\n",
      "           0       0.93      0.98      0.95     57219\n",
      "           1       0.98      0.92      0.95     56507\n",
      "\n",
      "    accuracy                           0.95    113726\n",
      "   macro avg       0.95      0.95      0.95    113726\n",
      "weighted avg       0.95      0.95      0.95    113726\n",
      "\n",
      "Area Under the Precision-Recall Curve (AUPRC): 0.9906\n"
     ]
    }
   ],
   "source": [
    "from sklearn.linear_model import LogisticRegression\n",
    "from sklearn.metrics import classification_report, precision_recall_curve, auc, confusion_matrix\n",
    "\n",
    "# Initialize and train Logistic Regression model\n",
    "lr_model = LogisticRegression(random_state=42)\n",
    "lr_model.fit(X_train, y_train)\n",
    "\n",
    "# Make predictions\n",
    "y_pred_lr = lr_model.predict(X_test)\n",
    "\n",
    "# Evaluate performance\n",
    "print(\"Classification Report (Logistic Regression):\\n\")\n",
    "print(classification_report(y_test, y_pred_lr))\n",
    "\n",
    "# Precision-Recall Curve\n",
    "precision, recall, thresholds = precision_recall_curve(y_test, lr_model.predict_proba(X_test)[:, 1])\n",
    "auc_pr = auc(recall, precision)\n",
    "print(f\"Area Under the Precision-Recall Curve (AUPRC): {auc_pr:.4f}\")\n"
   ]
  },
  {
   "cell_type": "markdown",
   "id": "e881f3f2",
   "metadata": {
    "papermill": {
     "duration": 0.015044,
     "end_time": "2025-01-07T16:35:58.890106",
     "exception": false,
     "start_time": "2025-01-07T16:35:58.875062",
     "status": "completed"
    },
    "tags": []
   },
   "source": [
    "\n",
    "### **Step 2: Multi-Layer Perceptron (MLP) Model**\n",
    "- **Objective**: Build and train a neural network for enhanced fraud detection.\n",
    "- **Architecture**:\n",
    "  - Input Layer: Accepts all PCA-transformed features and `Amount`.\n",
    "  - Hidden Layers: Two fully connected layers with ReLU activation.\n",
    "  - Dropout Layers: Added to prevent overfitting.\n",
    "  - Output Layer: Single neuron with Sigmoid activation for binary classification.\n",
    "- **Optimization**:\n",
    "  - Loss Function: Binary cross-entropy to handle binary classification.\n",
    "  - Optimizer: Adam optimizer for adaptive learning rates.\n",
    "- **Training**:\n",
    "  - Epochs: 20\n",
    "  - Batch Size: 32\n",
    "  - Validation Split: 20% of training data used for validation.\n",
    "- **Results**:\n",
    "  - The model converged well without significant overfitting.\n",
    "  - Metrics indicate improvement over the baseline Logistic Regression model.\n",
    "\n",
    "---\n",
    "\n"
   ]
  },
  {
   "cell_type": "code",
   "execution_count": 18,
   "id": "e093e954",
   "metadata": {
    "execution": {
     "iopub.execute_input": "2025-01-07T16:35:58.929811Z",
     "iopub.status.busy": "2025-01-07T16:35:58.929243Z",
     "iopub.status.idle": "2025-01-07T16:43:06.739083Z",
     "shell.execute_reply": "2025-01-07T16:43:06.737947Z"
    },
    "papermill": {
     "duration": 427.83586,
     "end_time": "2025-01-07T16:43:06.741020",
     "exception": false,
     "start_time": "2025-01-07T16:35:58.905160",
     "status": "completed"
    },
    "tags": []
   },
   "outputs": [
    {
     "name": "stderr",
     "output_type": "stream",
     "text": [
      "/usr/local/lib/python3.10/dist-packages/keras/src/layers/core/dense.py:87: UserWarning: Do not pass an `input_shape`/`input_dim` argument to a layer. When using Sequential models, prefer using an `Input(shape)` object as the first layer in the model instead.\n",
      "  super().__init__(activity_regularizer=activity_regularizer, **kwargs)\n"
     ]
    },
    {
     "name": "stdout",
     "output_type": "stream",
     "text": [
      "Epoch 1/20\n",
      "\u001b[1m11373/11373\u001b[0m \u001b[32m━━━━━━━━━━━━━━━━━━━━\u001b[0m\u001b[37m\u001b[0m \u001b[1m22s\u001b[0m 2ms/step - accuracy: 0.9667 - loss: 0.0912 - val_accuracy: 0.9971 - val_loss: 0.0114\n",
      "Epoch 2/20\n",
      "\u001b[1m11373/11373\u001b[0m \u001b[32m━━━━━━━━━━━━━━━━━━━━\u001b[0m\u001b[37m\u001b[0m \u001b[1m21s\u001b[0m 2ms/step - accuracy: 0.9949 - loss: 0.0189 - val_accuracy: 0.9987 - val_loss: 0.0059\n",
      "Epoch 3/20\n",
      "\u001b[1m11373/11373\u001b[0m \u001b[32m━━━━━━━━━━━━━━━━━━━━\u001b[0m\u001b[37m\u001b[0m \u001b[1m21s\u001b[0m 2ms/step - accuracy: 0.9966 - loss: 0.0124 - val_accuracy: 0.9987 - val_loss: 0.0055\n",
      "Epoch 4/20\n",
      "\u001b[1m11373/11373\u001b[0m \u001b[32m━━━━━━━━━━━━━━━━━━━━\u001b[0m\u001b[37m\u001b[0m \u001b[1m21s\u001b[0m 2ms/step - accuracy: 0.9972 - loss: 0.0109 - val_accuracy: 0.9990 - val_loss: 0.0045\n",
      "Epoch 5/20\n",
      "\u001b[1m11373/11373\u001b[0m \u001b[32m━━━━━━━━━━━━━━━━━━━━\u001b[0m\u001b[37m\u001b[0m \u001b[1m21s\u001b[0m 2ms/step - accuracy: 0.9977 - loss: 0.0110 - val_accuracy: 0.9990 - val_loss: 0.0048\n",
      "Epoch 6/20\n",
      "\u001b[1m11373/11373\u001b[0m \u001b[32m━━━━━━━━━━━━━━━━━━━━\u001b[0m\u001b[37m\u001b[0m \u001b[1m21s\u001b[0m 2ms/step - accuracy: 0.9978 - loss: 0.0090 - val_accuracy: 0.9992 - val_loss: 0.0035\n",
      "Epoch 7/20\n",
      "\u001b[1m11373/11373\u001b[0m \u001b[32m━━━━━━━━━━━━━━━━━━━━\u001b[0m\u001b[37m\u001b[0m \u001b[1m21s\u001b[0m 2ms/step - accuracy: 0.9980 - loss: 0.0082 - val_accuracy: 0.9994 - val_loss: 0.0041\n",
      "Epoch 8/20\n",
      "\u001b[1m11373/11373\u001b[0m \u001b[32m━━━━━━━━━━━━━━━━━━━━\u001b[0m\u001b[37m\u001b[0m \u001b[1m21s\u001b[0m 2ms/step - accuracy: 0.9982 - loss: 0.0084 - val_accuracy: 0.9993 - val_loss: 0.0033\n",
      "Epoch 9/20\n",
      "\u001b[1m11373/11373\u001b[0m \u001b[32m━━━━━━━━━━━━━━━━━━━━\u001b[0m\u001b[37m\u001b[0m \u001b[1m21s\u001b[0m 2ms/step - accuracy: 0.9984 - loss: 0.0075 - val_accuracy: 0.9995 - val_loss: 0.0025\n",
      "Epoch 10/20\n",
      "\u001b[1m11373/11373\u001b[0m \u001b[32m━━━━━━━━━━━━━━━━━━━━\u001b[0m\u001b[37m\u001b[0m \u001b[1m21s\u001b[0m 2ms/step - accuracy: 0.9982 - loss: 0.0081 - val_accuracy: 0.9994 - val_loss: 0.0037\n",
      "Epoch 11/20\n",
      "\u001b[1m11373/11373\u001b[0m \u001b[32m━━━━━━━━━━━━━━━━━━━━\u001b[0m\u001b[37m\u001b[0m \u001b[1m21s\u001b[0m 2ms/step - accuracy: 0.9983 - loss: 0.0093 - val_accuracy: 0.9993 - val_loss: 0.0031\n",
      "Epoch 12/20\n",
      "\u001b[1m11373/11373\u001b[0m \u001b[32m━━━━━━━━━━━━━━━━━━━━\u001b[0m\u001b[37m\u001b[0m \u001b[1m21s\u001b[0m 2ms/step - accuracy: 0.9987 - loss: 0.0066 - val_accuracy: 0.9995 - val_loss: 0.0026\n",
      "Epoch 13/20\n",
      "\u001b[1m11373/11373\u001b[0m \u001b[32m━━━━━━━━━━━━━━━━━━━━\u001b[0m\u001b[37m\u001b[0m \u001b[1m21s\u001b[0m 2ms/step - accuracy: 0.9985 - loss: 0.0082 - val_accuracy: 0.9995 - val_loss: 0.0040\n",
      "Epoch 14/20\n",
      "\u001b[1m11373/11373\u001b[0m \u001b[32m━━━━━━━━━━━━━━━━━━━━\u001b[0m\u001b[37m\u001b[0m \u001b[1m21s\u001b[0m 2ms/step - accuracy: 0.9987 - loss: 0.0074 - val_accuracy: 0.9994 - val_loss: 0.0051\n",
      "Epoch 15/20\n",
      "\u001b[1m11373/11373\u001b[0m \u001b[32m━━━━━━━━━━━━━━━━━━━━\u001b[0m\u001b[37m\u001b[0m \u001b[1m21s\u001b[0m 2ms/step - accuracy: 0.9986 - loss: 0.0075 - val_accuracy: 0.9995 - val_loss: 0.0024\n",
      "Epoch 16/20\n",
      "\u001b[1m11373/11373\u001b[0m \u001b[32m━━━━━━━━━━━━━━━━━━━━\u001b[0m\u001b[37m\u001b[0m \u001b[1m21s\u001b[0m 2ms/step - accuracy: 0.9988 - loss: 0.0065 - val_accuracy: 0.9995 - val_loss: 0.0029\n",
      "Epoch 17/20\n",
      "\u001b[1m11373/11373\u001b[0m \u001b[32m━━━━━━━━━━━━━━━━━━━━\u001b[0m\u001b[37m\u001b[0m \u001b[1m21s\u001b[0m 2ms/step - accuracy: 0.9988 - loss: 0.0058 - val_accuracy: 0.9996 - val_loss: 0.0029\n",
      "Epoch 18/20\n",
      "\u001b[1m11373/11373\u001b[0m \u001b[32m━━━━━━━━━━━━━━━━━━━━\u001b[0m\u001b[37m\u001b[0m \u001b[1m21s\u001b[0m 2ms/step - accuracy: 0.9988 - loss: 0.0069 - val_accuracy: 0.9994 - val_loss: 0.0030\n",
      "Epoch 19/20\n",
      "\u001b[1m11373/11373\u001b[0m \u001b[32m━━━━━━━━━━━━━━━━━━━━\u001b[0m\u001b[37m\u001b[0m \u001b[1m21s\u001b[0m 2ms/step - accuracy: 0.9988 - loss: 0.0061 - val_accuracy: 0.9994 - val_loss: 0.0029\n",
      "Epoch 20/20\n",
      "\u001b[1m11373/11373\u001b[0m \u001b[32m━━━━━━━━━━━━━━━━━━━━\u001b[0m\u001b[37m\u001b[0m \u001b[1m21s\u001b[0m 2ms/step - accuracy: 0.9990 - loss: 0.0053 - val_accuracy: 0.9996 - val_loss: 0.0026\n"
     ]
    }
   ],
   "source": [
    "from tensorflow.keras.models import Sequential\n",
    "from tensorflow.keras.layers import Dense, Dropout\n",
    "from tensorflow.keras.optimizers import Adam\n",
    "\n",
    "# Define the MLP model\n",
    "mlp_model = Sequential([\n",
    "    Dense(128, input_dim=X_train.shape[1], activation='relu'),\n",
    "    Dropout(0.3),\n",
    "    Dense(64, activation='relu'),\n",
    "    Dropout(0.3),\n",
    "    Dense(1, activation='sigmoid')\n",
    "])\n",
    "\n",
    "# Compile the model\n",
    "mlp_model.compile(optimizer=Adam(learning_rate=0.001), loss='binary_crossentropy', metrics=['accuracy'])\n",
    "\n",
    "# Train the model\n",
    "history = mlp_model.fit(X_train, y_train, validation_split=0.2, epochs=20, batch_size=32, verbose=1)\n"
   ]
  },
  {
   "cell_type": "markdown",
   "id": "762bf33e",
   "metadata": {
    "papermill": {
     "duration": 0.409668,
     "end_time": "2025-01-07T16:43:07.623486",
     "exception": false,
     "start_time": "2025-01-07T16:43:07.213818",
     "status": "completed"
    },
    "tags": []
   },
   "source": [
    "### **Step 3: Model Evaluation**\n",
    "- **Objective**: Evaluate the performance of the MLP model on test data.\n",
    "- **Metrics**:\n",
    "  - **Classification Report**:\n",
    "    - Precision, recall, and F1-score provide detailed insights into model performance.\n",
    "    - Fraud detection performance was notably improved.\n",
    "  - **Precision-Recall Curve (AUPRC)**:\n",
    "    - Demonstrated a higher AUPRC compared to the baseline model, indicating better fraud detection capabilities.\n",
    "- **Insights**:\n",
    "  - The MLP model outperforms Logistic Regression in terms of recall and overall fraud detection accuracy.\n",
    "  - Class imbalance handling during preprocessing significantly contributed to improved results.\n",
    "\n",
    "---\n",
    "\n",
    "\n",
    "\n"
   ]
  },
  {
   "cell_type": "code",
   "execution_count": 19,
   "id": "d80907dd",
   "metadata": {
    "execution": {
     "iopub.execute_input": "2025-01-07T16:43:08.470740Z",
     "iopub.status.busy": "2025-01-07T16:43:08.470027Z",
     "iopub.status.idle": "2025-01-07T16:43:19.083395Z",
     "shell.execute_reply": "2025-01-07T16:43:19.082266Z"
    },
    "papermill": {
     "duration": 11.067272,
     "end_time": "2025-01-07T16:43:19.085166",
     "exception": false,
     "start_time": "2025-01-07T16:43:08.017894",
     "status": "completed"
    },
    "tags": []
   },
   "outputs": [
    {
     "name": "stdout",
     "output_type": "stream",
     "text": [
      "\u001b[1m3554/3554\u001b[0m \u001b[32m━━━━━━━━━━━━━━━━━━━━\u001b[0m\u001b[37m\u001b[0m \u001b[1m4s\u001b[0m 1ms/step\n",
      "Classification Report (MLP Model):\n",
      "\n",
      "              precision    recall  f1-score   support\n",
      "\n",
      "           0       1.00      1.00      1.00     57219\n",
      "           1       1.00      1.00      1.00     56507\n",
      "\n",
      "    accuracy                           1.00    113726\n",
      "   macro avg       1.00      1.00      1.00    113726\n",
      "weighted avg       1.00      1.00      1.00    113726\n",
      "\n",
      "\u001b[1m3554/3554\u001b[0m \u001b[32m━━━━━━━━━━━━━━━━━━━━\u001b[0m\u001b[37m\u001b[0m \u001b[1m4s\u001b[0m 1ms/step\n",
      "Area Under the Precision-Recall Curve (AUPRC): 0.9999\n"
     ]
    },
    {
     "data": {
      "image/png": "[encoded data removed]",
      "text/plain": [
       "<Figure size 640x480 with 1 Axes>"
      ]
     },
     "metadata": {},
     "output_type": "display_data"
    }
   ],
   "source": [
    "# Evaluate on the test set\n",
    "y_pred_mlp = (mlp_model.predict(X_test) > 0.5).astype(int)\n",
    "\n",
    "# Classification Report\n",
    "print(\"Classification Report (MLP Model):\\n\")\n",
    "print(classification_report(y_test, y_pred_mlp))\n",
    "\n",
    "# Precision-Recall Curve\n",
    "precision, recall, thresholds = precision_recall_curve(y_test, mlp_model.predict(X_test))\n",
    "auc_pr = auc(recall, precision)\n",
    "print(f\"Area Under the Precision-Recall Curve (AUPRC): {auc_pr:.4f}\")\n",
    "\n",
    "# Plot Precision-Recall Curve\n",
    "plt.plot(recall, precision, label=f'AUPRC = {auc_pr:.4f}')\n",
    "plt.xlabel('Recall')\n",
    "plt.ylabel('Precision')\n",
    "plt.title('Precision-Recall Curve (MLP)')\n",
    "plt.legend()\n",
    "plt.show()\n"
   ]
  },
  {
   "cell_type": "markdown",
   "id": "c6011487",
   "metadata": {
    "papermill": {
     "duration": 0.405958,
     "end_time": "2025-01-07T16:43:19.910798",
     "exception": false,
     "start_time": "2025-01-07T16:43:19.504840",
     "status": "completed"
    },
    "tags": []
   },
   "source": [
    "### **Step 4: Training Performance Visualization**\n",
    "- **Objective**: Visualize model training performance to assess overfitting or underfitting.\n",
    "- **Plots**:\n",
    "  - **Loss Over Epochs**:\n",
    "    - Training and validation loss decreased steadily, indicating successful learning.\n",
    "  - **Accuracy Over Epochs**:\n",
    "    - Training and validation accuracy consistently improved, with minimal gap, showing no significant overfitting.\n",
    "- **Insights**:\n",
    "  - The training and validation curves are well-aligned, confirming the robustness of the MLP model.\n",
    "\n",
    "---\n"
   ]
  },
  {
   "cell_type": "code",
   "execution_count": 20,
   "id": "ff6841cf",
   "metadata": {
    "execution": {
     "iopub.execute_input": "2025-01-07T16:43:20.783073Z",
     "iopub.status.busy": "2025-01-07T16:43:20.782730Z",
     "iopub.status.idle": "2025-01-07T16:43:21.379528Z",
     "shell.execute_reply": "2025-01-07T16:43:21.378561Z"
    },
    "papermill": {
     "duration": 1.003697,
     "end_time": "2025-01-07T16:43:21.381490",
     "exception": false,
     "start_time": "2025-01-07T16:43:20.377793",
     "status": "completed"
    },
    "tags": []
   },
   "outputs": [
    {
     "data": {
      "image/png": "[encoded data removed]",
      "text/plain": [
       "<Figure size 1200x500 with 2 Axes>"
      ]
     },
     "metadata": {},
     "output_type": "display_data"
    }
   ],
   "source": [
    "# Plot training history\n",
    "plt.figure(figsize=(12, 5))\n",
    "\n",
    "# Loss Plot\n",
    "plt.subplot(1, 2, 1)\n",
    "plt.plot(history.history['loss'], label='Train Loss')\n",
    "plt.plot(history.history['val_loss'], label='Validation Loss')\n",
    "plt.title('Loss Over Epochs')\n",
    "plt.xlabel('Epochs')\n",
    "plt.ylabel('Loss')\n",
    "plt.legend()\n",
    "\n",
    "# Accuracy Plot\n",
    "plt.subplot(1, 2, 2)\n",
    "plt.plot(history.history['accuracy'], label='Train Accuracy')\n",
    "plt.plot(history.history['val_accuracy'], label='Validation Accuracy')\n",
    "plt.title('Accuracy Over Epochs')\n",
    "plt.xlabel('Epochs')\n",
    "plt.ylabel('Accuracy')\n",
    "plt.legend()\n",
    "\n",
    "plt.tight_layout()\n",
    "plt.show()\n"
   ]
  },
  {
   "cell_type": "markdown",
   "id": "32aa4f69",
   "metadata": {
    "papermill": {
     "duration": 0.464906,
     "end_time": "2025-01-07T16:43:22.262411",
     "exception": false,
     "start_time": "2025-01-07T16:43:21.797505",
     "status": "completed"
    },
    "tags": []
   },
   "source": [
    "## **Key Takeaways**\n",
    "- The baseline Logistic Regression model provided a reliable benchmark but struggled with fraud detection due to class imbalance.\n",
    "- The MLP model significantly improved recall and overall fraud detection performance.\n",
    "- Handling class imbalance and scaling features were critical to achieving high accuracy and reliability.\n",
    "---"
   ]
  },
  {
   "cell_type": "markdown",
   "id": "f361372d",
   "metadata": {
    "papermill": {
     "duration": 0.412844,
     "end_time": "2025-01-07T16:43:23.092998",
     "exception": false,
     "start_time": "2025-01-07T16:43:22.680154",
     "status": "completed"
    },
    "tags": []
   },
   "source": [
    "---\n",
    "\n"
   ]
  },
  {
   "cell_type": "markdown",
   "id": "0e20afef",
   "metadata": {
    "papermill": {
     "duration": 0.410763,
     "end_time": "2025-01-07T16:43:23.976031",
     "exception": false,
     "start_time": "2025-01-07T16:43:23.565268",
     "status": "completed"
    },
    "tags": []
   },
   "source": [
    "\n",
    "\n",
    "## **Streamlit Application**\n",
    "\n",
    "### **Objective**\n",
    "Create an interactive Streamlit application to showcase the project, allowing users to explore the dataset, view analysis results, and evaluate machine learning models.\n",
    "\n"
   ]
  },
  {
   "cell_type": "markdown",
   "id": "2fd9286f",
   "metadata": {
    "papermill": {
     "duration": 0.41298,
     "end_time": "2025-01-07T16:43:24.798251",
     "exception": false,
     "start_time": "2025-01-07T16:43:24.385271",
     "status": "completed"
    },
    "tags": []
   },
   "source": [
    "\n",
    "\n",
    "## **Application Features**\n",
    "\n",
    "### **1. Introduction**\n",
    "- **Purpose**: Provide an overview of the dataset and project objectives.\n",
    "- **Details**:\n",
    "  - Dataset contains 284,807 transactions, with only 492 labeled as fraud.\n",
    "  - Focus on using machine learning to identify fraudulent transactions.\n",
    "  - Steps include EDA, data preprocessing, and training an MLP model.\n",
    "\n",
    "---\n",
    "\n",
    "### **2. Exploratory Data Analysis (EDA)**\n",
    "- **Purpose**: Enable users to explore the dataset and understand key insights.\n",
    "- **Features**:\n",
    "  - **Dataset Overview**: Displays the first few rows and summary statistics.\n",
    "  - **Class Distribution**: Visualizes the imbalance between fraud and non-fraud cases.\n",
    "  - **Transaction Amount Distribution**: Shows the spread of transaction amounts.\n",
    "- **Outcome**:\n",
    "  - Users gain a comprehensive understanding of the dataset's structure and trends.\n",
    "\n",
    "---\n",
    "\n",
    "### **3. Machine Learning Model**\n",
    "- **Purpose**: Showcase model training, predictions, and evaluation results.\n",
    "- **Features**:\n",
    "  - **Preprocessing**: Automatically scales and splits the dataset.\n",
    "  - **Training**: Builds and trains an MLP model using the preprocessed data.\n",
    "  - **Evaluation**:\n",
    "    - Displays a detailed classification report.\n",
    "    - Precision-Recall Curve visualizes the model’s performance, focusing on the minority class.\n",
    "- **Outcome**:\n",
    "  - Highlights the effectiveness of the MLP model in detecting fraud.\n",
    "\n",
    "---\n",
    "\n",
    "### **4. Conclusion**\n",
    "- **Purpose**: Summarize the findings and emphasize key takeaways.\n",
    "- **Details**:\n",
    "  - The MLP model performed well in identifying fraudulent transactions.\n",
    "  - Handling class imbalance and evaluating using AUPRC is critical for imbalanced datasets.\n",
    "\n",
    "---\n",
    "\n",
    "## **How to Use the Application**\n",
    "\n",
    "1. **Install Streamlit**:\n",
    "   - Run `pip install streamlit` to install the required package.\n",
    "\n",
    "2. **Run the Application**:\n",
    "   - Save the code in a file named `app.py`.\n",
    "   - Execute the app using the command:\n",
    "     ```bash\n",
    "     streamlit run app.py\n",
    "     ```\n",
    "\n",
    "3. **Explore the Features**:\n",
    "   - Use the sidebar to navigate through sections:\n",
    "     - **Introduction**: Learn about the dataset and project objectives.\n",
    "     - **EDA**: View visualizations and summary statistics.\n",
    "     - **Model**: Train and evaluate the MLP model.\n",
    "     - **Conclusion**: Review project outcomes.\n",
    "\n",
    "---\n"
   ]
  },
  {
   "cell_type": "code",
   "execution_count": 21,
   "id": "9101e0e5",
   "metadata": {
    "execution": {
     "iopub.execute_input": "2025-01-07T16:43:25.686716Z",
     "iopub.status.busy": "2025-01-07T16:43:25.686320Z",
     "iopub.status.idle": "2025-01-07T16:43:25.691674Z",
     "shell.execute_reply": "2025-01-07T16:43:25.690714Z"
    },
    "papermill": {
     "duration": 0.422444,
     "end_time": "2025-01-07T16:43:25.693138",
     "exception": false,
     "start_time": "2025-01-07T16:43:25.270694",
     "status": "completed"
    },
    "tags": []
   },
   "outputs": [],
   "source": [
    "# import streamlit as st\n",
    "# import pandas as pd\n",
    "# import numpy as np\n",
    "# import matplotlib.pyplot as plt\n",
    "# import seaborn as sns\n",
    "# from sklearn.preprocessing import StandardScaler\n",
    "# from sklearn.model_selection import train_test_split\n",
    "# from sklearn.metrics import classification_report, precision_recall_curve, auc\n",
    "# from tensorflow.keras.models import Sequential\n",
    "# from tensorflow.keras.layers import Dense, Dropout\n",
    "# from tensorflow.keras.optimizers import Adam\n",
    "\n",
    "# # Load dataset\n",
    "# @st.cache\n",
    "# def load_data():\n",
    "#     return pd.read_csv('/kaggle/input/creditcardfraud/creditcard.csv')\n",
    "\n",
    "# data = load_data()\n",
    "\n",
    "# # Sidebar options\n",
    "# st.sidebar.title(\"Credit Card Fraud Detection\")\n",
    "# option = st.sidebar.radio(\"Navigate the App:\", [\"Introduction\", \"EDA\", \"Model Training\", \"Transaction Prediction\", \"Conclusion\"])\n",
    "\n",
    "# if option == \"Introduction\":\n",
    "#     st.title(\"Credit Card Fraud Detection\")\n",
    "#     st.markdown(\"\"\"\n",
    "#     - **Dataset**: 284,807 transactions with only 492 labeled as fraud.\n",
    "#     - **Objective**: Detect fraudulent transactions using machine learning.\n",
    "#     - **Features of the App**:\n",
    "#         1. Explore the dataset with interactive visualizations.\n",
    "#         2. Train and evaluate a Multi-Layer Perceptron (MLP) model.\n",
    "#         3. Predict fraud for custom transaction inputs.\n",
    "#     \"\"\")\n",
    "\n",
    "# elif option == \"EDA\":\n",
    "#     st.title(\"Exploratory Data Analysis\")\n",
    "#     st.write(\"### Dataset Overview\")\n",
    "#     st.dataframe(data.head())\n",
    "#     st.write(\"### Summary Statistics\")\n",
    "#     st.write(data.describe())\n",
    "\n",
    "#     st.write(\"### Class Distribution\")\n",
    "#     fig, ax = plt.subplots()\n",
    "#     sns.countplot(x='Class', data=data, palette='Set1', ax=ax)\n",
    "#     st.pyplot(fig)\n",
    "\n",
    "#     st.write(\"### Transaction Amount Distribution\")\n",
    "#     fig, ax = plt.subplots()\n",
    "#     sns.histplot(data['Amount'], bins=50, kde=True, color='blue', ax=ax)\n",
    "#     st.pyplot(fig)\n",
    "\n",
    "# elif option == \"Model Training\":\n",
    "#     st.title(\"Machine Learning Model Training\")\n",
    "\n",
    "#     st.write(\"### Data Preprocessing\")\n",
    "#     # Preprocessing\n",
    "#     X = data.drop(columns=['Class'])\n",
    "#     y = data['Class']\n",
    "#     scaler = StandardScaler()\n",
    "#     X_scaled = scaler.fit_transform(X)\n",
    "#     X_train, X_test, y_train, y_test = train_test_split(X_scaled, y, test_size=0.2, random_state=42)\n",
    "#     st.write(f\"Training Data Shape: {X_train.shape}\")\n",
    "#     st.write(f\"Testing Data Shape: {X_test.shape}\")\n",
    "\n",
    "#     st.write(\"### Build and Train MLP Model\")\n",
    "#     model = Sequential([\n",
    "#         Dense(128, input_dim=X_train.shape[1], activation='relu'),\n",
    "#         Dropout(0.3),\n",
    "#         Dense(64, activation='relu'),\n",
    "#         Dropout(0.3),\n",
    "#         Dense(1, activation='sigmoid')\n",
    "#     ])\n",
    "#     model.compile(optimizer=Adam(learning_rate=0.001), loss='binary_crossentropy', metrics=['accuracy'])\n",
    "\n",
    "#     with st.spinner('Training the model...'):\n",
    "#         model.fit(X_train, y_train, validation_split=0.2, epochs=10, batch_size=32, verbose=0)\n",
    "#     st.success(\"Model Training Completed!\")\n",
    "\n",
    "#     st.write(\"### Model Evaluation\")\n",
    "#     y_pred = (model.predict(X_test) > 0.5).astype(int)\n",
    "#     report = classification_report(y_test, y_pred, output_dict=True)\n",
    "#     st.json(report)\n",
    "\n",
    "#     precision, recall, thresholds = precision_recall_curve(y_test, model.predict(X_test))\n",
    "#     auc_pr = auc(recall, precision)\n",
    "#     st.write(f\"Area Under Precision-Recall Curve: {auc_pr:.4f}\")\n",
    "#     fig, ax = plt.subplots()\n",
    "#     ax.plot(recall, precision, label=f'AUPRC = {auc_pr:.4f}')\n",
    "#     ax.set_xlabel('Recall')\n",
    "#     ax.set_ylabel('Precision')\n",
    "#     ax.legend()\n",
    "#     st.pyplot(fig)\n",
    "\n",
    "# elif option == \"Transaction Prediction\":\n",
    "#     st.title(\"Transaction Prediction\")\n",
    "\n",
    "#     st.write(\"### Input Transaction Details\")\n",
    "#     user_input = {}\n",
    "#     for col in data.columns[:-1]:  # Exclude 'Class'\n",
    "#         user_input[col] = st.number_input(f\"{col}\", value=0.0)\n",
    "\n",
    "#     st.write(\"### Predict Fraud\")\n",
    "#     input_data = pd.DataFrame([user_input])\n",
    "#     scaled_input = scaler.transform(input_data)\n",
    "#     prediction = model.predict(scaled_input)\n",
    "#     fraud_probability = prediction[0][0]\n",
    "#     st.write(f\"Fraud Probability: {fraud_probability:.2f}\")\n",
    "#     if fraud_probability > 0.5:\n",
    "#         st.error(\"This transaction is likely fraudulent!\")\n",
    "#     else:\n",
    "#         st.success(\"This transaction is likely legitimate.\")\n",
    "\n",
    "# elif option == \"Conclusion\":\n",
    "#     st.title(\"Conclusion\")\n",
    "#     st.markdown(\"\"\"\n",
    "#     - The MLP model performs well in detecting fraudulent transactions, achieving a high AUPRC.\n",
    "#     - Imbalanced datasets require careful handling to ensure model effectiveness.\n",
    "#     - Real-world applications can benefit from deploying this model in production systems.\n",
    "#     - Future work can include hyperparameter tuning and testing additional algorithms.\n",
    "#     \"\"\")\n"
   ]
  },
  {
   "cell_type": "markdown",
   "id": "3b5a5f9a",
   "metadata": {
    "papermill": {
     "duration": 0.474242,
     "end_time": "2025-01-07T16:43:26.578041",
     "exception": false,
     "start_time": "2025-01-07T16:43:26.103799",
     "status": "completed"
    },
    "tags": []
   },
   "source": [
    "---"
   ]
  },
  {
   "cell_type": "markdown",
   "id": "c3d24ccf",
   "metadata": {
    "papermill": {
     "duration": 0.420266,
     "end_time": "2025-01-07T16:43:27.409967",
     "exception": false,
     "start_time": "2025-01-07T16:43:26.989701",
     "status": "completed"
    },
    "tags": []
   },
   "source": []
  }
 ],
 "metadata": {
  "kaggle": {
   "accelerator": "none",
   "dataSources": [
    {
     "datasetId": 310,
     "sourceId": 23498,
     "sourceType": "datasetVersion"
    }
   ],
   "dockerImageVersionId": 30822,
   "isGpuEnabled": false,
   "isInternetEnabled": true,
   "language": "python",
   "sourceType": "notebook"
  },
  "kernelspec": {
   "display_name": "Python 3",
   "language": "python",
   "name": "python3"
  },
  "language_info": {
   "codemirror_mode": {
    "name": "ipython",
    "version": 3
   },
   "file_extension": ".py",
   "mimetype": "text/x-python",
   "name": "python",
   "nbconvert_exporter": "python",
   "pygments_lexer": "ipython3",
   "version": "3.10.12"
  },
  "papermill": {
   "default_parameters": {},
   "duration": 481.019433,
   "end_time": "2025-01-07T16:43:30.396347",
   "environment_variables": {},
   "exception": null,
   "input_path": "__notebook__.ipynb",
   "output_path": "__notebook__.ipynb",
   "parameters": {},
   "start_time": "2025-01-07T16:35:29.376914",
   "version": "2.6.0"
  }
 },
 "nbformat": 4,
 "nbformat_minor": 5
}
